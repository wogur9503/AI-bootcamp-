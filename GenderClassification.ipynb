{
  "nbformat": 4,
  "nbformat_minor": 0,
  "metadata": {
    "kernelspec": {
      "display_name": "Python 3",
      "language": "python",
      "name": "python3"
    },
    "language_info": {
      "codemirror_mode": {
        "name": "ipython",
        "version": 3
      },
      "file_extension": ".py",
      "mimetype": "text/x-python",
      "name": "python",
      "nbconvert_exporter": "python",
      "pygments_lexer": "ipython3",
      "version": "3.7.7"
    },
    "colab": {
      "name": "n231a_choose_your_ml_problems.ipynb",
      "provenance": [],
      "include_colab_link": true
    }
  },
  "cells": [
    {
      "cell_type": "markdown",
      "metadata": {
        "id": "view-in-github",
        "colab_type": "text"
      },
      "source": [
        "<a href=\"https://colab.research.google.com/github/wogur9503/AI-bootcamp-/blob/main/GenderClassification.ipynb\" target=\"_parent\"><img src=\"https://colab.research.google.com/assets/colab-badge.svg\" alt=\"Open In Colab\"/></a>"
      ]
    },
    {
      "cell_type": "markdown",
      "metadata": {
        "id": "nCc3XZEyG3XV"
      },
      "source": [
        "# Project : 외형을 이용한 성별 분류"
      ]
    },
    {
      "cell_type": "code",
      "metadata": {
        "colab": {
          "base_uri": "https://localhost:8080/"
        },
        "id": "MP9fHjPgnvYw",
        "outputId": "3acb8291-fc29-4eb6-e541-1fec22294f1a"
      },
      "source": [
        "!pip install pdpbox"
      ],
      "execution_count": 1,
      "outputs": [
        {
          "output_type": "stream",
          "name": "stdout",
          "text": [
            "Requirement already satisfied: pdpbox in /usr/local/lib/python3.7/dist-packages (0.2.1)\n",
            "Requirement already satisfied: pandas in /usr/local/lib/python3.7/dist-packages (from pdpbox) (1.1.5)\n",
            "Requirement already satisfied: numpy in /usr/local/lib/python3.7/dist-packages (from pdpbox) (1.19.5)\n",
            "Requirement already satisfied: matplotlib==3.1.1 in /usr/local/lib/python3.7/dist-packages (from pdpbox) (3.1.1)\n",
            "Requirement already satisfied: joblib in /usr/local/lib/python3.7/dist-packages (from pdpbox) (1.1.0)\n",
            "Requirement already satisfied: psutil in /usr/local/lib/python3.7/dist-packages (from pdpbox) (5.4.8)\n",
            "Requirement already satisfied: scipy in /usr/local/lib/python3.7/dist-packages (from pdpbox) (1.4.1)\n",
            "Requirement already satisfied: sklearn in /usr/local/lib/python3.7/dist-packages (from pdpbox) (0.0)\n",
            "Requirement already satisfied: kiwisolver>=1.0.1 in /usr/local/lib/python3.7/dist-packages (from matplotlib==3.1.1->pdpbox) (1.3.2)\n",
            "Requirement already satisfied: python-dateutil>=2.1 in /usr/local/lib/python3.7/dist-packages (from matplotlib==3.1.1->pdpbox) (2.8.2)\n",
            "Requirement already satisfied: pyparsing!=2.0.4,!=2.1.2,!=2.1.6,>=2.0.1 in /usr/local/lib/python3.7/dist-packages (from matplotlib==3.1.1->pdpbox) (2.4.7)\n",
            "Requirement already satisfied: cycler>=0.10 in /usr/local/lib/python3.7/dist-packages (from matplotlib==3.1.1->pdpbox) (0.11.0)\n",
            "Requirement already satisfied: six>=1.5 in /usr/local/lib/python3.7/dist-packages (from python-dateutil>=2.1->matplotlib==3.1.1->pdpbox) (1.15.0)\n",
            "Requirement already satisfied: pytz>=2017.2 in /usr/local/lib/python3.7/dist-packages (from pandas->pdpbox) (2018.9)\n",
            "Requirement already satisfied: scikit-learn in /usr/local/lib/python3.7/dist-packages (from sklearn->pdpbox) (0.22.2.post1)\n"
          ]
        }
      ]
    },
    {
      "cell_type": "code",
      "metadata": {
        "colab": {
          "base_uri": "https://localhost:8080/"
        },
        "id": "03y71lq9sVwv",
        "outputId": "8d053a1c-0a41-4159-ef12-2951bfa79dfe"
      },
      "source": [
        "!pip install eli5"
      ],
      "execution_count": 2,
      "outputs": [
        {
          "output_type": "stream",
          "name": "stdout",
          "text": [
            "Requirement already satisfied: eli5 in /usr/local/lib/python3.7/dist-packages (0.11.0)\n",
            "Requirement already satisfied: scipy in /usr/local/lib/python3.7/dist-packages (from eli5) (1.4.1)\n",
            "Requirement already satisfied: jinja2 in /usr/local/lib/python3.7/dist-packages (from eli5) (2.11.3)\n",
            "Requirement already satisfied: numpy>=1.9.0 in /usr/local/lib/python3.7/dist-packages (from eli5) (1.19.5)\n",
            "Requirement already satisfied: tabulate>=0.7.7 in /usr/local/lib/python3.7/dist-packages (from eli5) (0.8.9)\n",
            "Requirement already satisfied: six in /usr/local/lib/python3.7/dist-packages (from eli5) (1.15.0)\n",
            "Requirement already satisfied: scikit-learn>=0.20 in /usr/local/lib/python3.7/dist-packages (from eli5) (0.22.2.post1)\n",
            "Requirement already satisfied: graphviz in /usr/local/lib/python3.7/dist-packages (from eli5) (0.10.1)\n",
            "Requirement already satisfied: attrs>16.0.0 in /usr/local/lib/python3.7/dist-packages (from eli5) (21.2.0)\n",
            "Requirement already satisfied: joblib>=0.11 in /usr/local/lib/python3.7/dist-packages (from scikit-learn>=0.20->eli5) (1.1.0)\n",
            "Requirement already satisfied: MarkupSafe>=0.23 in /usr/local/lib/python3.7/dist-packages (from jinja2->eli5) (2.0.1)\n"
          ]
        }
      ]
    },
    {
      "cell_type": "code",
      "metadata": {
        "colab": {
          "base_uri": "https://localhost:8080/"
        },
        "id": "READrkD1-Dwk",
        "outputId": "465eed3f-a3fd-4a91-a4bf-73ace84e0e2b"
      },
      "source": [
        "pip install --upgrade category_encoders"
      ],
      "execution_count": 3,
      "outputs": [
        {
          "output_type": "stream",
          "name": "stdout",
          "text": [
            "Collecting category_encoders\n",
            "  Downloading category_encoders-2.3.0-py2.py3-none-any.whl (82 kB)\n",
            "\u001b[?25l\r\u001b[K     |████                            | 10 kB 25.3 MB/s eta 0:00:01\r\u001b[K     |████████                        | 20 kB 30.2 MB/s eta 0:00:01\r\u001b[K     |████████████                    | 30 kB 14.7 MB/s eta 0:00:01\r\u001b[K     |████████████████                | 40 kB 11.3 MB/s eta 0:00:01\r\u001b[K     |████████████████████            | 51 kB 8.1 MB/s eta 0:00:01\r\u001b[K     |████████████████████████        | 61 kB 8.5 MB/s eta 0:00:01\r\u001b[K     |████████████████████████████    | 71 kB 7.1 MB/s eta 0:00:01\r\u001b[K     |███████████████████████████████▉| 81 kB 7.9 MB/s eta 0:00:01\r\u001b[K     |████████████████████████████████| 82 kB 441 kB/s \n",
            "\u001b[?25hRequirement already satisfied: scipy>=1.0.0 in /usr/local/lib/python3.7/dist-packages (from category_encoders) (1.4.1)\n",
            "Requirement already satisfied: scikit-learn>=0.20.0 in /usr/local/lib/python3.7/dist-packages (from category_encoders) (0.22.2.post1)\n",
            "Requirement already satisfied: statsmodels>=0.9.0 in /usr/local/lib/python3.7/dist-packages (from category_encoders) (0.10.2)\n",
            "Requirement already satisfied: patsy>=0.5.1 in /usr/local/lib/python3.7/dist-packages (from category_encoders) (0.5.2)\n",
            "Requirement already satisfied: pandas>=0.21.1 in /usr/local/lib/python3.7/dist-packages (from category_encoders) (1.1.5)\n",
            "Requirement already satisfied: numpy>=1.14.0 in /usr/local/lib/python3.7/dist-packages (from category_encoders) (1.19.5)\n",
            "Requirement already satisfied: pytz>=2017.2 in /usr/local/lib/python3.7/dist-packages (from pandas>=0.21.1->category_encoders) (2018.9)\n",
            "Requirement already satisfied: python-dateutil>=2.7.3 in /usr/local/lib/python3.7/dist-packages (from pandas>=0.21.1->category_encoders) (2.8.2)\n",
            "Requirement already satisfied: six in /usr/local/lib/python3.7/dist-packages (from patsy>=0.5.1->category_encoders) (1.15.0)\n",
            "Requirement already satisfied: joblib>=0.11 in /usr/local/lib/python3.7/dist-packages (from scikit-learn>=0.20.0->category_encoders) (1.1.0)\n",
            "Installing collected packages: category-encoders\n",
            "Successfully installed category-encoders-2.3.0\n"
          ]
        }
      ]
    },
    {
      "cell_type": "code",
      "metadata": {
        "id": "P67Gi5_c_-5l",
        "colab": {
          "base_uri": "https://localhost:8080/"
        },
        "outputId": "536f5689-bc61-4070-e744-bdc36caa2e76"
      },
      "source": [
        "import timeit\n",
        "import pandas as pd\n",
        "import numpy as np\n",
        "import matplotlib.pyplot as plt\n",
        "import pickle\n",
        "import seaborn as sns\n",
        "%matplotlib inline\n",
        "\n",
        "from sklearn.svm import SVC\n",
        "from sklearn import svm, metrics, model_selection\n",
        "from sklearn.metrics import confusion_matrix\n",
        "from category_encoders import OrdinalEncoder\n",
        "from sklearn.model_selection import GridSearchCV, KFold\n",
        "from sklearn.pipeline import make_pipeline, Pipeline\n",
        "from sklearn.ensemble import RandomForestClassifier\n",
        "from sklearn.model_selection import train_test_split\n",
        "from sklearn.impute import SimpleImputer\n",
        "from sklearn.metrics.pairwise import rbf_kernel\n",
        "from sklearn.externals import joblib\n",
        "from sklearn.preprocessing import LabelEncoder\n",
        "from scipy.stats import randint, uniform\n",
        "from sklearn.metrics import classification_report\n",
        "from sklearn.model_selection import RandomizedSearchCV\n",
        "from sklearn.linear_model import LogisticRegression\n",
        "from xgboost import XGBClassifier\n",
        "from sklearn.metrics import accuracy_score\n",
        "from pdpbox.pdp import pdp_interact, pdp_interact_plot\n",
        "import eli5\n",
        "from eli5.sklearn import PermutationImportance"
      ],
      "execution_count": 4,
      "outputs": [
        {
          "output_type": "stream",
          "name": "stderr",
          "text": [
            "/usr/local/lib/python3.7/dist-packages/statsmodels/tools/_testing.py:19: FutureWarning: pandas.util.testing is deprecated. Use the functions in the public API at pandas.testing instead.\n",
            "  import pandas.util.testing as tm\n",
            "/usr/local/lib/python3.7/dist-packages/sklearn/externals/joblib/__init__.py:15: FutureWarning: sklearn.externals.joblib is deprecated in 0.21 and will be removed in 0.23. Please import this functionality directly from joblib, which can be installed with: pip install joblib. If this warning is raised when loading pickled models, you may need to re-serialize those models with scikit-learn 0.21+.\n",
            "  warnings.warn(msg, category=FutureWarning)\n"
          ]
        }
      ]
    },
    {
      "cell_type": "code",
      "metadata": {
        "colab": {
          "base_uri": "https://localhost:8080/",
          "height": 204
        },
        "id": "_DNuQiVQHXQs",
        "outputId": "b249865a-7d80-45ae-beb1-d3012fb5ce8b"
      },
      "source": [
        "# 성별 분류 데이터\n",
        "df = pd.read_csv('gender_classification_v7.csv')\n",
        "target = 'gender'\n",
        "df.head()"
      ],
      "execution_count": 5,
      "outputs": [
        {
          "output_type": "execute_result",
          "data": {
            "text/html": [
              "<div>\n",
              "<style scoped>\n",
              "    .dataframe tbody tr th:only-of-type {\n",
              "        vertical-align: middle;\n",
              "    }\n",
              "\n",
              "    .dataframe tbody tr th {\n",
              "        vertical-align: top;\n",
              "    }\n",
              "\n",
              "    .dataframe thead th {\n",
              "        text-align: right;\n",
              "    }\n",
              "</style>\n",
              "<table border=\"1\" class=\"dataframe\">\n",
              "  <thead>\n",
              "    <tr style=\"text-align: right;\">\n",
              "      <th></th>\n",
              "      <th>long_hair</th>\n",
              "      <th>forehead_width_cm</th>\n",
              "      <th>forehead_height_cm</th>\n",
              "      <th>nose_wide</th>\n",
              "      <th>nose_long</th>\n",
              "      <th>lips_thin</th>\n",
              "      <th>distance_nose_to_lip_long</th>\n",
              "      <th>gender</th>\n",
              "    </tr>\n",
              "  </thead>\n",
              "  <tbody>\n",
              "    <tr>\n",
              "      <th>0</th>\n",
              "      <td>1</td>\n",
              "      <td>11.8</td>\n",
              "      <td>6.1</td>\n",
              "      <td>1</td>\n",
              "      <td>0</td>\n",
              "      <td>1</td>\n",
              "      <td>1</td>\n",
              "      <td>Male</td>\n",
              "    </tr>\n",
              "    <tr>\n",
              "      <th>1</th>\n",
              "      <td>0</td>\n",
              "      <td>14.0</td>\n",
              "      <td>5.4</td>\n",
              "      <td>0</td>\n",
              "      <td>0</td>\n",
              "      <td>1</td>\n",
              "      <td>0</td>\n",
              "      <td>Female</td>\n",
              "    </tr>\n",
              "    <tr>\n",
              "      <th>2</th>\n",
              "      <td>0</td>\n",
              "      <td>11.8</td>\n",
              "      <td>6.3</td>\n",
              "      <td>1</td>\n",
              "      <td>1</td>\n",
              "      <td>1</td>\n",
              "      <td>1</td>\n",
              "      <td>Male</td>\n",
              "    </tr>\n",
              "    <tr>\n",
              "      <th>3</th>\n",
              "      <td>0</td>\n",
              "      <td>14.4</td>\n",
              "      <td>6.1</td>\n",
              "      <td>0</td>\n",
              "      <td>1</td>\n",
              "      <td>1</td>\n",
              "      <td>1</td>\n",
              "      <td>Male</td>\n",
              "    </tr>\n",
              "    <tr>\n",
              "      <th>4</th>\n",
              "      <td>1</td>\n",
              "      <td>13.5</td>\n",
              "      <td>5.9</td>\n",
              "      <td>0</td>\n",
              "      <td>0</td>\n",
              "      <td>0</td>\n",
              "      <td>0</td>\n",
              "      <td>Female</td>\n",
              "    </tr>\n",
              "  </tbody>\n",
              "</table>\n",
              "</div>"
            ],
            "text/plain": [
              "   long_hair  forehead_width_cm  ...  distance_nose_to_lip_long  gender\n",
              "0          1               11.8  ...                          1    Male\n",
              "1          0               14.0  ...                          0  Female\n",
              "2          0               11.8  ...                          1    Male\n",
              "3          0               14.4  ...                          1    Male\n",
              "4          1               13.5  ...                          0  Female\n",
              "\n",
              "[5 rows x 8 columns]"
            ]
          },
          "metadata": {},
          "execution_count": 5
        }
      ]
    },
    {
      "cell_type": "markdown",
      "metadata": {
        "id": "9ZtT6KaoI4MM"
      },
      "source": [
        "독립변수(x_n) = long_hair ~ distance_nose_to_lip_long \n",
        "\n",
        "종속변수(y, target) = gender"
      ]
    },
    {
      "cell_type": "markdown",
      "metadata": {
        "id": "dW7DuW3cSNbb"
      },
      "source": [
        "# 라벨 인코딩 <br>\n",
        " - 서포트 벡터 머신을 사용할 때, 숫자 타입의 타겟을 사용해야 했음\n",
        " - 타겟값을 직접(0,1)로 바꿨을 때 에러가 발생하여 라벨 인코딩 진행"
      ]
    },
    {
      "cell_type": "code",
      "metadata": {
        "colab": {
          "base_uri": "https://localhost:8080/"
        },
        "id": "jF5hmqGkR_3r",
        "outputId": "5f6afb14-e065-475b-f677-74b5e9f31cd6"
      },
      "source": [
        "label = LabelEncoder()\n",
        "df['gender'] = label.fit_transform(df['gender'])\n",
        "\n",
        "print(df['gender'], type(df['gender']))\n",
        "print(label.classes_)"
      ],
      "execution_count": 6,
      "outputs": [
        {
          "output_type": "stream",
          "name": "stdout",
          "text": [
            "0       1\n",
            "1       0\n",
            "2       1\n",
            "3       1\n",
            "4       0\n",
            "       ..\n",
            "4996    0\n",
            "4997    0\n",
            "4998    0\n",
            "4999    0\n",
            "5000    1\n",
            "Name: gender, Length: 5001, dtype: int64 <class 'pandas.core.series.Series'>\n",
            "['Female' 'Male']\n"
          ]
        }
      ]
    },
    {
      "cell_type": "markdown",
      "metadata": {
        "id": "Yd4nEZFnMRoy"
      },
      "source": [
        "long_hair, forehead_width, forehead_height는 유의미한 상관계수를 나타내지 않는 것으로 나타남.\n",
        "\n",
        "하지만 칼럼 수가 많지 않기 때문에 그대로 분석 진행해볼 생각."
      ]
    },
    {
      "cell_type": "markdown",
      "metadata": {
        "id": "SOkhMKFiJfXD"
      },
      "source": [
        "# 데이터 분할(Data splitting) - train / test datasets"
      ]
    },
    {
      "cell_type": "code",
      "metadata": {
        "id": "deF_haFtKGYL"
      },
      "source": [
        "train, test = train_test_split(df, train_size=0.80, test_size=0.20, \n",
        "                              stratify=df[target], random_state=2)\n",
        "\n",
        "train, val = train_test_split(train, train_size=0.80, test_size=0.20, \n",
        "                              stratify=train[target], random_state=2)\n",
        "\n",
        "features = train.drop(columns=[target]).columns\n",
        "\n",
        "X_train = train[features]\n",
        "y_train = train[target]\n",
        "X_val = val[features]\n",
        "y_val = val[target]\n",
        "X_test = test[features]\n",
        "y_test = test[target]"
      ],
      "execution_count": 7,
      "outputs": []
    },
    {
      "cell_type": "markdown",
      "metadata": {
        "id": "w7kggOSjLbNJ"
      },
      "source": [
        "# 상관계수 히트맵"
      ]
    },
    {
      "cell_type": "code",
      "metadata": {
        "colab": {
          "base_uri": "https://localhost:8080/",
          "height": 613
        },
        "id": "bx4rbxfc_-5p",
        "outputId": "84673638-2355-48be-a59d-07217cde45d9"
      },
      "source": [
        "# 상관계수 히트맵\n",
        "colormap = plt.cm.PuBu \n",
        "plt.figure(figsize=(10, 8)) \n",
        "plt.title(\"corr_heat_map\", y = 1.05, size = 15) \n",
        "sns.heatmap(train.corr(), linewidths = 0.1, vmax = 1.0, square = True, cmap = colormap, linecolor = \"white\", annot = True, annot_kws = {\"size\" : 16})\n"
      ],
      "execution_count": 8,
      "outputs": [
        {
          "output_type": "execute_result",
          "data": {
            "text/plain": [
              "<matplotlib.axes._subplots.AxesSubplot at 0x7f34cd369990>"
            ]
          },
          "metadata": {},
          "execution_count": 8
        },
        {
          "output_type": "display_data",
          "data": {
            "image/png": "[encoded data removed]",
            "text/plain": [
              "<Figure size 720x576 with 2 Axes>"
            ]
          },
          "metadata": {
            "needs_background": "light"
          }
        }
      ]
    },
    {
      "cell_type": "markdown",
      "metadata": {
        "id": "2htEz7S0MCW7"
      },
      "source": [
        "# Implement SVM"
      ]
    },
    {
      "cell_type": "code",
      "metadata": {
        "colab": {
          "base_uri": "https://localhost:8080/"
        },
        "id": "U0vjo3ArMsxM",
        "outputId": "797bdbf1-03e1-4ec9-de8b-a4e749c876af"
      },
      "source": [
        "start = timeit.default_timer()\n",
        "\n",
        "svc=SVC(kernel='linear', C = 100)\n",
        "svc.fit(X_train, y_train)\n",
        "\n",
        "stop = timeit.default_timer()\n",
        "print('학습 소요시간 :',stop - start)"
      ],
      "execution_count": 9,
      "outputs": [
        {
          "output_type": "stream",
          "name": "stdout",
          "text": [
            "학습 소요시간 : 0.19216691700000865\n"
          ]
        }
      ]
    },
    {
      "cell_type": "code",
      "metadata": {
        "colab": {
          "base_uri": "https://localhost:8080/"
        },
        "id": "6N7hROgIObO1",
        "outputId": "1c0c5769-4cc0-4449-b116-b73fdf920cc2"
      },
      "source": [
        "y_pred = svc.predict(X_test)\n",
        "metrics.confusion_matrix(y_test, y_pred)"
      ],
      "execution_count": 10,
      "outputs": [
        {
          "output_type": "execute_result",
          "data": {
            "text/plain": [
              "array([[490,  11],\n",
              "       [ 21, 479]])"
            ]
          },
          "metadata": {},
          "execution_count": 10
        }
      ]
    },
    {
      "cell_type": "code",
      "metadata": {
        "colab": {
          "base_uri": "https://localhost:8080/"
        },
        "id": "kcN2eekZOvWT",
        "outputId": "2ab1b366-2085-4221-c960-7020007fd570"
      },
      "source": [
        "print(\"Accuracy Score:\")\n",
        "print(metrics.accuracy_score(y_test, y_pred))\n",
        "print(\"Recall Score:\")\n",
        "print(metrics.recall_score(y_test, y_pred))\n",
        "print('Precision Score:')\n",
        "print(metrics.precision_score(y_test, y_pred))"
      ],
      "execution_count": 11,
      "outputs": [
        {
          "output_type": "stream",
          "name": "stdout",
          "text": [
            "Accuracy Score:\n",
            "0.968031968031968\n",
            "Recall Score:\n",
            "0.958\n",
            "Precision Score:\n",
            "0.9775510204081632\n"
          ]
        }
      ]
    },
    {
      "cell_type": "markdown",
      "metadata": {
        "id": "AdIZ7XkQN9M1"
      },
      "source": [
        "# Grid Search"
      ]
    },
    {
      "cell_type": "code",
      "metadata": {
        "colab": {
          "base_uri": "https://localhost:8080/"
        },
        "id": "EV3Q6xgwQSYU",
        "outputId": "1430d9ce-c192-43f1-ee94-4efd1b837726"
      },
      "source": [
        "values = [0.01, 0.1, 1, 10, 100]\n",
        "param_grid = [{'kernel':['rbf'], 'C':values, 'gamma':values},\n",
        "               {'kernel':['linear'], 'C':values}]\n",
        "gs = GridSearchCV(SVC(), param_grid, cv= KFold(n_splits=5), scoring='accuracy', verbose = 3)\n",
        "gs.fit(X_train, y_train)"
      ],
      "execution_count": 12,
      "outputs": [
        {
          "output_type": "stream",
          "name": "stdout",
          "text": [
            "Fitting 5 folds for each of 30 candidates, totalling 150 fits\n",
            "[CV] C=0.01, gamma=0.01, kernel=rbf ..................................\n"
          ]
        },
        {
          "output_type": "stream",
          "name": "stderr",
          "text": [
            "[Parallel(n_jobs=1)]: Using backend SequentialBackend with 1 concurrent workers.\n"
          ]
        },
        {
          "output_type": "stream",
          "name": "stdout",
          "text": [
            "[CV] ...... C=0.01, gamma=0.01, kernel=rbf, score=0.786, total=   0.4s\n",
            "[CV] C=0.01, gamma=0.01, kernel=rbf ..................................\n"
          ]
        },
        {
          "output_type": "stream",
          "name": "stderr",
          "text": [
            "[Parallel(n_jobs=1)]: Done   1 out of   1 | elapsed:    0.4s remaining:    0.0s\n"
          ]
        },
        {
          "output_type": "stream",
          "name": "stdout",
          "text": [
            "[CV] ...... C=0.01, gamma=0.01, kernel=rbf, score=0.755, total=   0.4s\n",
            "[CV] C=0.01, gamma=0.01, kernel=rbf ..................................\n"
          ]
        },
        {
          "output_type": "stream",
          "name": "stderr",
          "text": [
            "[Parallel(n_jobs=1)]: Done   2 out of   2 | elapsed:    0.7s remaining:    0.0s\n"
          ]
        },
        {
          "output_type": "stream",
          "name": "stdout",
          "text": [
            "[CV] ...... C=0.01, gamma=0.01, kernel=rbf, score=0.870, total=   0.4s\n",
            "[CV] C=0.01, gamma=0.01, kernel=rbf ..................................\n",
            "[CV] ...... C=0.01, gamma=0.01, kernel=rbf, score=0.830, total=   0.4s\n",
            "[CV] C=0.01, gamma=0.01, kernel=rbf ..................................\n",
            "[CV] ...... C=0.01, gamma=0.01, kernel=rbf, score=0.866, total=   0.3s\n",
            "[CV] C=0.01, gamma=0.1, kernel=rbf ...................................\n",
            "[CV] ....... C=0.01, gamma=0.1, kernel=rbf, score=0.964, total=   0.2s\n",
            "[CV] C=0.01, gamma=0.1, kernel=rbf ...................................\n",
            "[CV] ....... C=0.01, gamma=0.1, kernel=rbf, score=0.975, total=   0.2s\n",
            "[CV] C=0.01, gamma=0.1, kernel=rbf ...................................\n",
            "[CV] ....... C=0.01, gamma=0.1, kernel=rbf, score=0.958, total=   0.2s\n",
            "[CV] C=0.01, gamma=0.1, kernel=rbf ...................................\n",
            "[CV] ....... C=0.01, gamma=0.1, kernel=rbf, score=0.973, total=   0.2s\n",
            "[CV] C=0.01, gamma=0.1, kernel=rbf ...................................\n",
            "[CV] ....... C=0.01, gamma=0.1, kernel=rbf, score=0.972, total=   0.2s\n",
            "[CV] C=0.01, gamma=1, kernel=rbf .....................................\n",
            "[CV] ......... C=0.01, gamma=1, kernel=rbf, score=0.952, total=   0.2s\n",
            "[CV] C=0.01, gamma=1, kernel=rbf .....................................\n",
            "[CV] ......... C=0.01, gamma=1, kernel=rbf, score=0.963, total=   0.2s\n",
            "[CV] C=0.01, gamma=1, kernel=rbf .....................................\n",
            "[CV] ......... C=0.01, gamma=1, kernel=rbf, score=0.964, total=   0.2s\n",
            "[CV] C=0.01, gamma=1, kernel=rbf .....................................\n",
            "[CV] ......... C=0.01, gamma=1, kernel=rbf, score=0.955, total=   0.2s\n",
            "[CV] C=0.01, gamma=1, kernel=rbf .....................................\n",
            "[CV] ......... C=0.01, gamma=1, kernel=rbf, score=0.959, total=   0.2s\n",
            "[CV] C=0.01, gamma=10, kernel=rbf ....................................\n",
            "[CV] ........ C=0.01, gamma=10, kernel=rbf, score=0.486, total=   0.3s\n",
            "[CV] C=0.01, gamma=10, kernel=rbf ....................................\n",
            "[CV] ........ C=0.01, gamma=10, kernel=rbf, score=0.473, total=   0.3s\n",
            "[CV] C=0.01, gamma=10, kernel=rbf ....................................\n",
            "[CV] ........ C=0.01, gamma=10, kernel=rbf, score=0.491, total=   0.3s\n",
            "[CV] C=0.01, gamma=10, kernel=rbf ....................................\n",
            "[CV] ........ C=0.01, gamma=10, kernel=rbf, score=0.478, total=   0.3s\n",
            "[CV] C=0.01, gamma=10, kernel=rbf ....................................\n",
            "[CV] ........ C=0.01, gamma=10, kernel=rbf, score=0.491, total=   0.3s\n",
            "[CV] C=0.01, gamma=100, kernel=rbf ...................................\n",
            "[CV] ....... C=0.01, gamma=100, kernel=rbf, score=0.486, total=   0.4s\n",
            "[CV] C=0.01, gamma=100, kernel=rbf ...................................\n",
            "[CV] ....... C=0.01, gamma=100, kernel=rbf, score=0.473, total=   0.4s\n",
            "[CV] C=0.01, gamma=100, kernel=rbf ...................................\n",
            "[CV] ....... C=0.01, gamma=100, kernel=rbf, score=0.491, total=   0.4s\n",
            "[CV] C=0.01, gamma=100, kernel=rbf ...................................\n",
            "[CV] ....... C=0.01, gamma=100, kernel=rbf, score=0.478, total=   0.4s\n",
            "[CV] C=0.01, gamma=100, kernel=rbf ...................................\n",
            "[CV] ....... C=0.01, gamma=100, kernel=rbf, score=0.491, total=   0.4s\n",
            "[CV] C=0.1, gamma=0.01, kernel=rbf ...................................\n",
            "[CV] ....... C=0.1, gamma=0.01, kernel=rbf, score=0.955, total=   0.2s\n",
            "[CV] C=0.1, gamma=0.01, kernel=rbf ...................................\n",
            "[CV] ....... C=0.1, gamma=0.01, kernel=rbf, score=0.966, total=   0.2s\n",
            "[CV] C=0.1, gamma=0.01, kernel=rbf ...................................\n",
            "[CV] ....... C=0.1, gamma=0.01, kernel=rbf, score=0.952, total=   0.2s\n",
            "[CV] C=0.1, gamma=0.01, kernel=rbf ...................................\n",
            "[CV] ....... C=0.1, gamma=0.01, kernel=rbf, score=0.967, total=   0.2s\n",
            "[CV] C=0.1, gamma=0.01, kernel=rbf ...................................\n",
            "[CV] ....... C=0.1, gamma=0.01, kernel=rbf, score=0.973, total=   0.2s\n",
            "[CV] C=0.1, gamma=0.1, kernel=rbf ....................................\n",
            "[CV] ........ C=0.1, gamma=0.1, kernel=rbf, score=0.961, total=   0.1s\n",
            "[CV] C=0.1, gamma=0.1, kernel=rbf ....................................\n",
            "[CV] ........ C=0.1, gamma=0.1, kernel=rbf, score=0.969, total=   0.1s\n",
            "[CV] C=0.1, gamma=0.1, kernel=rbf ....................................\n",
            "[CV] ........ C=0.1, gamma=0.1, kernel=rbf, score=0.959, total=   0.1s\n",
            "[CV] C=0.1, gamma=0.1, kernel=rbf ....................................\n",
            "[CV] ........ C=0.1, gamma=0.1, kernel=rbf, score=0.972, total=   0.1s\n",
            "[CV] C=0.1, gamma=0.1, kernel=rbf ....................................\n",
            "[CV] ........ C=0.1, gamma=0.1, kernel=rbf, score=0.969, total=   0.1s\n",
            "[CV] C=0.1, gamma=1, kernel=rbf ......................................\n",
            "[CV] .......... C=0.1, gamma=1, kernel=rbf, score=0.964, total=   0.1s\n",
            "[CV] C=0.1, gamma=1, kernel=rbf ......................................\n",
            "[CV] .......... C=0.1, gamma=1, kernel=rbf, score=0.969, total=   0.1s\n",
            "[CV] C=0.1, gamma=1, kernel=rbf ......................................\n",
            "[CV] .......... C=0.1, gamma=1, kernel=rbf, score=0.964, total=   0.1s\n",
            "[CV] C=0.1, gamma=1, kernel=rbf ......................................\n",
            "[CV] .......... C=0.1, gamma=1, kernel=rbf, score=0.964, total=   0.1s\n",
            "[CV] C=0.1, gamma=1, kernel=rbf ......................................\n",
            "[CV] .......... C=0.1, gamma=1, kernel=rbf, score=0.978, total=   0.1s\n",
            "[CV] C=0.1, gamma=10, kernel=rbf .....................................\n",
            "[CV] ......... C=0.1, gamma=10, kernel=rbf, score=0.922, total=   0.3s\n",
            "[CV] C=0.1, gamma=10, kernel=rbf .....................................\n",
            "[CV] ......... C=0.1, gamma=10, kernel=rbf, score=0.920, total=   0.3s\n",
            "[CV] C=0.1, gamma=10, kernel=rbf .....................................\n",
            "[CV] ......... C=0.1, gamma=10, kernel=rbf, score=0.906, total=   0.3s\n",
            "[CV] C=0.1, gamma=10, kernel=rbf .....................................\n",
            "[CV] ......... C=0.1, gamma=10, kernel=rbf, score=0.928, total=   0.3s\n",
            "[CV] C=0.1, gamma=10, kernel=rbf .....................................\n",
            "[CV] ......... C=0.1, gamma=10, kernel=rbf, score=0.930, total=   0.3s\n",
            "[CV] C=0.1, gamma=100, kernel=rbf ....................................\n",
            "[CV] ........ C=0.1, gamma=100, kernel=rbf, score=0.553, total=   0.4s\n",
            "[CV] C=0.1, gamma=100, kernel=rbf ....................................\n",
            "[CV] ........ C=0.1, gamma=100, kernel=rbf, score=0.506, total=   0.4s\n",
            "[CV] C=0.1, gamma=100, kernel=rbf ....................................\n",
            "[CV] ........ C=0.1, gamma=100, kernel=rbf, score=0.558, total=   0.4s\n",
            "[CV] C=0.1, gamma=100, kernel=rbf ....................................\n",
            "[CV] ........ C=0.1, gamma=100, kernel=rbf, score=0.531, total=   0.4s\n",
            "[CV] C=0.1, gamma=100, kernel=rbf ....................................\n",
            "[CV] ........ C=0.1, gamma=100, kernel=rbf, score=0.591, total=   0.4s\n",
            "[CV] C=1, gamma=0.01, kernel=rbf .....................................\n",
            "[CV] ......... C=1, gamma=0.01, kernel=rbf, score=0.961, total=   0.1s\n",
            "[CV] C=1, gamma=0.01, kernel=rbf .....................................\n",
            "[CV] ......... C=1, gamma=0.01, kernel=rbf, score=0.972, total=   0.1s\n",
            "[CV] C=1, gamma=0.01, kernel=rbf .....................................\n",
            "[CV] ......... C=1, gamma=0.01, kernel=rbf, score=0.961, total=   0.1s\n",
            "[CV] C=1, gamma=0.01, kernel=rbf .....................................\n",
            "[CV] ......... C=1, gamma=0.01, kernel=rbf, score=0.973, total=   0.1s\n",
            "[CV] C=1, gamma=0.01, kernel=rbf .....................................\n",
            "[CV] ......... C=1, gamma=0.01, kernel=rbf, score=0.969, total=   0.1s\n",
            "[CV] C=1, gamma=0.1, kernel=rbf ......................................\n",
            "[CV] .......... C=1, gamma=0.1, kernel=rbf, score=0.966, total=   0.0s\n",
            "[CV] C=1, gamma=0.1, kernel=rbf ......................................\n",
            "[CV] .......... C=1, gamma=0.1, kernel=rbf, score=0.977, total=   0.0s\n",
            "[CV] C=1, gamma=0.1, kernel=rbf ......................................\n",
            "[CV] .......... C=1, gamma=0.1, kernel=rbf, score=0.963, total=   0.0s\n",
            "[CV] C=1, gamma=0.1, kernel=rbf ......................................\n",
            "[CV] .......... C=1, gamma=0.1, kernel=rbf, score=0.972, total=   0.0s\n",
            "[CV] C=1, gamma=0.1, kernel=rbf ......................................\n",
            "[CV] .......... C=1, gamma=0.1, kernel=rbf, score=0.972, total=   0.0s\n",
            "[CV] C=1, gamma=1, kernel=rbf ........................................\n",
            "[CV] ............ C=1, gamma=1, kernel=rbf, score=0.963, total=   0.1s\n",
            "[CV] C=1, gamma=1, kernel=rbf ........................................\n",
            "[CV] ............ C=1, gamma=1, kernel=rbf, score=0.977, total=   0.1s\n",
            "[CV] C=1, gamma=1, kernel=rbf ........................................\n",
            "[CV] ............ C=1, gamma=1, kernel=rbf, score=0.964, total=   0.1s\n",
            "[CV] C=1, gamma=1, kernel=rbf ........................................\n",
            "[CV] ............ C=1, gamma=1, kernel=rbf, score=0.963, total=   0.1s\n",
            "[CV] C=1, gamma=1, kernel=rbf ........................................\n",
            "[CV] ............ C=1, gamma=1, kernel=rbf, score=0.972, total=   0.1s\n",
            "[CV] C=1, gamma=10, kernel=rbf .......................................\n",
            "[CV] ........... C=1, gamma=10, kernel=rbf, score=0.945, total=   0.3s\n",
            "[CV] C=1, gamma=10, kernel=rbf .......................................\n",
            "[CV] ........... C=1, gamma=10, kernel=rbf, score=0.964, total=   0.3s\n",
            "[CV] C=1, gamma=10, kernel=rbf .......................................\n",
            "[CV] ........... C=1, gamma=10, kernel=rbf, score=0.963, total=   0.3s\n",
            "[CV] C=1, gamma=10, kernel=rbf .......................................\n",
            "[CV] ........... C=1, gamma=10, kernel=rbf, score=0.959, total=   0.3s\n",
            "[CV] C=1, gamma=10, kernel=rbf .......................................\n",
            "[CV] ........... C=1, gamma=10, kernel=rbf, score=0.961, total=   0.3s\n",
            "[CV] C=1, gamma=100, kernel=rbf ......................................\n",
            "[CV] .......... C=1, gamma=100, kernel=rbf, score=0.902, total=   0.4s\n",
            "[CV] C=1, gamma=100, kernel=rbf ......................................\n",
            "[CV] .......... C=1, gamma=100, kernel=rbf, score=0.903, total=   0.4s\n",
            "[CV] C=1, gamma=100, kernel=rbf ......................................\n",
            "[CV] .......... C=1, gamma=100, kernel=rbf, score=0.902, total=   0.4s\n",
            "[CV] C=1, gamma=100, kernel=rbf ......................................\n",
            "[CV] .......... C=1, gamma=100, kernel=rbf, score=0.898, total=   0.4s\n",
            "[CV] C=1, gamma=100, kernel=rbf ......................................\n",
            "[CV] .......... C=1, gamma=100, kernel=rbf, score=0.909, total=   0.4s\n",
            "[CV] C=10, gamma=0.01, kernel=rbf ....................................\n",
            "[CV] ........ C=10, gamma=0.01, kernel=rbf, score=0.961, total=   0.0s\n",
            "[CV] C=10, gamma=0.01, kernel=rbf ....................................\n",
            "[CV] ........ C=10, gamma=0.01, kernel=rbf, score=0.977, total=   0.0s\n",
            "[CV] C=10, gamma=0.01, kernel=rbf ....................................\n",
            "[CV] ........ C=10, gamma=0.01, kernel=rbf, score=0.955, total=   0.0s\n",
            "[CV] C=10, gamma=0.01, kernel=rbf ....................................\n",
            "[CV] ........ C=10, gamma=0.01, kernel=rbf, score=0.973, total=   0.0s\n",
            "[CV] C=10, gamma=0.01, kernel=rbf ....................................\n",
            "[CV] ........ C=10, gamma=0.01, kernel=rbf, score=0.972, total=   0.0s\n",
            "[CV] C=10, gamma=0.1, kernel=rbf .....................................\n",
            "[CV] ......... C=10, gamma=0.1, kernel=rbf, score=0.970, total=   0.0s\n",
            "[CV] C=10, gamma=0.1, kernel=rbf .....................................\n",
            "[CV] ......... C=10, gamma=0.1, kernel=rbf, score=0.973, total=   0.0s\n",
            "[CV] C=10, gamma=0.1, kernel=rbf .....................................\n",
            "[CV] ......... C=10, gamma=0.1, kernel=rbf, score=0.966, total=   0.0s\n",
            "[CV] C=10, gamma=0.1, kernel=rbf .....................................\n",
            "[CV] ......... C=10, gamma=0.1, kernel=rbf, score=0.977, total=   0.0s\n",
            "[CV] C=10, gamma=0.1, kernel=rbf .....................................\n",
            "[CV] ......... C=10, gamma=0.1, kernel=rbf, score=0.975, total=   0.0s\n",
            "[CV] C=10, gamma=1, kernel=rbf .......................................\n",
            "[CV] ........... C=10, gamma=1, kernel=rbf, score=0.958, total=   0.1s\n",
            "[CV] C=10, gamma=1, kernel=rbf .......................................\n",
            "[CV] ........... C=10, gamma=1, kernel=rbf, score=0.972, total=   0.1s\n",
            "[CV] C=10, gamma=1, kernel=rbf .......................................\n",
            "[CV] ........... C=10, gamma=1, kernel=rbf, score=0.967, total=   0.1s\n",
            "[CV] C=10, gamma=1, kernel=rbf .......................................\n",
            "[CV] ........... C=10, gamma=1, kernel=rbf, score=0.963, total=   0.1s\n",
            "[CV] C=10, gamma=1, kernel=rbf .......................................\n",
            "[CV] ........... C=10, gamma=1, kernel=rbf, score=0.961, total=   0.1s\n",
            "[CV] C=10, gamma=10, kernel=rbf ......................................\n",
            "[CV] .......... C=10, gamma=10, kernel=rbf, score=0.938, total=   0.3s\n",
            "[CV] C=10, gamma=10, kernel=rbf ......................................\n",
            "[CV] .......... C=10, gamma=10, kernel=rbf, score=0.952, total=   0.3s\n",
            "[CV] C=10, gamma=10, kernel=rbf ......................................\n",
            "[CV] .......... C=10, gamma=10, kernel=rbf, score=0.958, total=   0.3s\n",
            "[CV] C=10, gamma=10, kernel=rbf ......................................\n",
            "[CV] .......... C=10, gamma=10, kernel=rbf, score=0.959, total=   0.4s\n",
            "[CV] C=10, gamma=10, kernel=rbf ......................................\n",
            "[CV] .......... C=10, gamma=10, kernel=rbf, score=0.953, total=   0.3s\n",
            "[CV] C=10, gamma=100, kernel=rbf .....................................\n",
            "[CV] ......... C=10, gamma=100, kernel=rbf, score=0.903, total=   0.4s\n",
            "[CV] C=10, gamma=100, kernel=rbf .....................................\n",
            "[CV] ......... C=10, gamma=100, kernel=rbf, score=0.902, total=   0.4s\n",
            "[CV] C=10, gamma=100, kernel=rbf .....................................\n",
            "[CV] ......... C=10, gamma=100, kernel=rbf, score=0.908, total=   0.4s\n",
            "[CV] C=10, gamma=100, kernel=rbf .....................................\n",
            "[CV] ......... C=10, gamma=100, kernel=rbf, score=0.906, total=   0.4s\n",
            "[CV] C=10, gamma=100, kernel=rbf .....................................\n",
            "[CV] ......... C=10, gamma=100, kernel=rbf, score=0.916, total=   0.4s\n",
            "[CV] C=100, gamma=0.01, kernel=rbf ...................................\n",
            "[CV] ....... C=100, gamma=0.01, kernel=rbf, score=0.966, total=   0.0s\n",
            "[CV] C=100, gamma=0.01, kernel=rbf ...................................\n",
            "[CV] ....... C=100, gamma=0.01, kernel=rbf, score=0.981, total=   0.0s\n",
            "[CV] C=100, gamma=0.01, kernel=rbf ...................................\n",
            "[CV] ....... C=100, gamma=0.01, kernel=rbf, score=0.961, total=   0.0s\n",
            "[CV] C=100, gamma=0.01, kernel=rbf ...................................\n",
            "[CV] ....... C=100, gamma=0.01, kernel=rbf, score=0.977, total=   0.0s\n",
            "[CV] C=100, gamma=0.01, kernel=rbf ...................................\n",
            "[CV] ....... C=100, gamma=0.01, kernel=rbf, score=0.975, total=   0.1s\n",
            "[CV] C=100, gamma=0.1, kernel=rbf ....................................\n",
            "[CV] ........ C=100, gamma=0.1, kernel=rbf, score=0.969, total=   0.0s\n",
            "[CV] C=100, gamma=0.1, kernel=rbf ....................................\n",
            "[CV] ........ C=100, gamma=0.1, kernel=rbf, score=0.975, total=   0.1s\n",
            "[CV] C=100, gamma=0.1, kernel=rbf ....................................\n",
            "[CV] ........ C=100, gamma=0.1, kernel=rbf, score=0.966, total=   0.1s\n",
            "[CV] C=100, gamma=0.1, kernel=rbf ....................................\n",
            "[CV] ........ C=100, gamma=0.1, kernel=rbf, score=0.972, total=   0.1s\n",
            "[CV] C=100, gamma=0.1, kernel=rbf ....................................\n",
            "[CV] ........ C=100, gamma=0.1, kernel=rbf, score=0.973, total=   0.1s\n",
            "[CV] C=100, gamma=1, kernel=rbf ......................................\n",
            "[CV] .......... C=100, gamma=1, kernel=rbf, score=0.956, total=   0.1s\n",
            "[CV] C=100, gamma=1, kernel=rbf ......................................\n",
            "[CV] .......... C=100, gamma=1, kernel=rbf, score=0.963, total=   0.1s\n",
            "[CV] C=100, gamma=1, kernel=rbf ......................................\n",
            "[CV] .......... C=100, gamma=1, kernel=rbf, score=0.964, total=   0.1s\n",
            "[CV] C=100, gamma=1, kernel=rbf ......................................\n",
            "[CV] .......... C=100, gamma=1, kernel=rbf, score=0.963, total=   0.1s\n",
            "[CV] C=100, gamma=1, kernel=rbf ......................................\n",
            "[CV] .......... C=100, gamma=1, kernel=rbf, score=0.964, total=   0.1s\n",
            "[CV] C=100, gamma=10, kernel=rbf .....................................\n",
            "[CV] ......... C=100, gamma=10, kernel=rbf, score=0.939, total=   0.3s\n",
            "[CV] C=100, gamma=10, kernel=rbf .....................................\n",
            "[CV] ......... C=100, gamma=10, kernel=rbf, score=0.948, total=   0.3s\n",
            "[CV] C=100, gamma=10, kernel=rbf .....................................\n",
            "[CV] ......... C=100, gamma=10, kernel=rbf, score=0.956, total=   0.3s\n",
            "[CV] C=100, gamma=10, kernel=rbf .....................................\n",
            "[CV] ......... C=100, gamma=10, kernel=rbf, score=0.956, total=   0.3s\n",
            "[CV] C=100, gamma=10, kernel=rbf .....................................\n",
            "[CV] ......... C=100, gamma=10, kernel=rbf, score=0.950, total=   0.3s\n",
            "[CV] C=100, gamma=100, kernel=rbf ....................................\n",
            "[CV] ........ C=100, gamma=100, kernel=rbf, score=0.903, total=   0.4s\n",
            "[CV] C=100, gamma=100, kernel=rbf ....................................\n",
            "[CV] ........ C=100, gamma=100, kernel=rbf, score=0.902, total=   0.4s\n",
            "[CV] C=100, gamma=100, kernel=rbf ....................................\n",
            "[CV] ........ C=100, gamma=100, kernel=rbf, score=0.908, total=   0.4s\n",
            "[CV] C=100, gamma=100, kernel=rbf ....................................\n",
            "[CV] ........ C=100, gamma=100, kernel=rbf, score=0.906, total=   0.4s\n",
            "[CV] C=100, gamma=100, kernel=rbf ....................................\n",
            "[CV] ........ C=100, gamma=100, kernel=rbf, score=0.916, total=   0.4s\n",
            "[CV] C=0.01, kernel=linear ...........................................\n",
            "[CV] ............... C=0.01, kernel=linear, score=0.961, total=   0.0s\n",
            "[CV] C=0.01, kernel=linear ...........................................\n",
            "[CV] ............... C=0.01, kernel=linear, score=0.972, total=   0.0s\n",
            "[CV] C=0.01, kernel=linear ...........................................\n",
            "[CV] ............... C=0.01, kernel=linear, score=0.948, total=   0.0s\n",
            "[CV] C=0.01, kernel=linear ...........................................\n",
            "[CV] ............... C=0.01, kernel=linear, score=0.958, total=   0.0s\n",
            "[CV] C=0.01, kernel=linear ...........................................\n",
            "[CV] ............... C=0.01, kernel=linear, score=0.964, total=   0.0s\n",
            "[CV] C=0.1, kernel=linear ............................................\n",
            "[CV] ................ C=0.1, kernel=linear, score=0.959, total=   0.0s\n",
            "[CV] C=0.1, kernel=linear ............................................\n",
            "[CV] ................ C=0.1, kernel=linear, score=0.969, total=   0.0s\n",
            "[CV] C=0.1, kernel=linear ............................................\n",
            "[CV] ................ C=0.1, kernel=linear, score=0.952, total=   0.0s\n",
            "[CV] C=0.1, kernel=linear ............................................\n",
            "[CV] ................ C=0.1, kernel=linear, score=0.972, total=   0.0s\n",
            "[CV] C=0.1, kernel=linear ............................................\n",
            "[CV] ................ C=0.1, kernel=linear, score=0.973, total=   0.0s\n",
            "[CV] C=1, kernel=linear ..............................................\n",
            "[CV] .................. C=1, kernel=linear, score=0.959, total=   0.0s\n",
            "[CV] C=1, kernel=linear ..............................................\n",
            "[CV] .................. C=1, kernel=linear, score=0.969, total=   0.0s\n",
            "[CV] C=1, kernel=linear ..............................................\n",
            "[CV] .................. C=1, kernel=linear, score=0.955, total=   0.0s\n",
            "[CV] C=1, kernel=linear ..............................................\n",
            "[CV] .................. C=1, kernel=linear, score=0.972, total=   0.0s\n",
            "[CV] C=1, kernel=linear ..............................................\n",
            "[CV] .................. C=1, kernel=linear, score=0.972, total=   0.0s\n",
            "[CV] C=10, kernel=linear .............................................\n",
            "[CV] ................. C=10, kernel=linear, score=0.959, total=   0.0s\n",
            "[CV] C=10, kernel=linear .............................................\n",
            "[CV] ................. C=10, kernel=linear, score=0.973, total=   0.0s\n",
            "[CV] C=10, kernel=linear .............................................\n",
            "[CV] ................. C=10, kernel=linear, score=0.953, total=   0.0s\n",
            "[CV] C=10, kernel=linear .............................................\n",
            "[CV] ................. C=10, kernel=linear, score=0.975, total=   0.0s\n",
            "[CV] C=10, kernel=linear .............................................\n",
            "[CV] ................. C=10, kernel=linear, score=0.973, total=   0.0s\n",
            "[CV] C=100, kernel=linear ............................................\n",
            "[CV] ................ C=100, kernel=linear, score=0.959, total=   0.1s\n",
            "[CV] C=100, kernel=linear ............................................\n",
            "[CV] ................ C=100, kernel=linear, score=0.973, total=   0.1s\n",
            "[CV] C=100, kernel=linear ............................................\n",
            "[CV] ................ C=100, kernel=linear, score=0.953, total=   0.1s\n",
            "[CV] C=100, kernel=linear ............................................\n",
            "[CV] ................ C=100, kernel=linear, score=0.975, total=   0.1s\n",
            "[CV] C=100, kernel=linear ............................................\n",
            "[CV] ................ C=100, kernel=linear, score=0.972, total=   0.1s\n"
          ]
        },
        {
          "output_type": "stream",
          "name": "stderr",
          "text": [
            "[Parallel(n_jobs=1)]: Done 150 out of 150 | elapsed:   26.4s finished\n"
          ]
        },
        {
          "output_type": "execute_result",
          "data": {
            "text/plain": [
              "GridSearchCV(cv=KFold(n_splits=5, random_state=None, shuffle=False),\n",
              "             error_score=nan,\n",
              "             estimator=SVC(C=1.0, break_ties=False, cache_size=200,\n",
              "                           class_weight=None, coef0=0.0,\n",
              "                           decision_function_shape='ovr', degree=3,\n",
              "                           gamma='scale', kernel='rbf', max_iter=-1,\n",
              "                           probability=False, random_state=None, shrinking=True,\n",
              "                           tol=0.001, verbose=False),\n",
              "             iid='deprecated', n_jobs=None,\n",
              "             param_grid=[{'C': [0.01, 0.1, 1, 10, 100],\n",
              "                          'gamma': [0.01, 0.1, 1, 10, 100], 'kernel': ['rbf']},\n",
              "                         {'C': [0.01, 0.1, 1, 10, 100], 'kernel': ['linear']}],\n",
              "             pre_dispatch='2*n_jobs', refit=True, return_train_score=False,\n",
              "             scoring='accuracy', verbose=3)"
            ]
          },
          "metadata": {},
          "execution_count": 12
        }
      ]
    },
    {
      "cell_type": "code",
      "metadata": {
        "colab": {
          "base_uri": "https://localhost:8080/"
        },
        "id": "CZ9oEcTfVhIZ",
        "outputId": "21584040-9f03-4398-c26b-fc87050fcb3a"
      },
      "source": [
        "print('optimal parameter ==> {}'.format(gs.best_params_))\n",
        "print('optimal parameter의 점수 ==> {:.3f}'.format(gs.best_score_))\n",
        "print('optimal parameter로 일반화 점수 ==> {:.3f}'.format(gs.score(X_test, y_test)))"
      ],
      "execution_count": 13,
      "outputs": [
        {
          "output_type": "stream",
          "name": "stdout",
          "text": [
            "optimal parameter ==> {'C': 10, 'gamma': 0.1, 'kernel': 'rbf'}\n",
            "optimal parameter의 점수 ==> 0.972\n",
            "optimal parameter로 일반화 점수 ==> 0.972\n"
          ]
        }
      ]
    },
    {
      "cell_type": "code",
      "metadata": {
        "colab": {
          "base_uri": "https://localhost:8080/"
        },
        "id": "Bv7OjEALWXdV",
        "outputId": "ea107880-6362-4306-b20c-6e4c4753e45a"
      },
      "source": [
        "svc_optimal=SVC(kernel='rbf', C = 10, gamma = 0.1)\n",
        "svc_optimal.fit(X_train, y_train)"
      ],
      "execution_count": 20,
      "outputs": [
        {
          "output_type": "execute_result",
          "data": {
            "text/plain": [
              "SVC(C=10, break_ties=False, cache_size=200, class_weight=None, coef0=0.0,\n",
              "    decision_function_shape='ovr', degree=3, gamma=0.1, kernel='rbf',\n",
              "    max_iter=-1, probability=False, random_state=None, shrinking=True,\n",
              "    tol=0.001, verbose=False)"
            ]
          },
          "metadata": {},
          "execution_count": 20
        }
      ]
    },
    {
      "cell_type": "code",
      "metadata": {
        "colab": {
          "base_uri": "https://localhost:8080/"
        },
        "id": "p_TCPOXoW1K-",
        "outputId": "2bab354c-1bdf-4528-a30f-8474be05bbfa"
      },
      "source": [
        "y_pred_optimal = svc_optimal.predict(X_test)\n",
        "metrics.confusion_matrix(y_test, y_pred_optimal)"
      ],
      "execution_count": 22,
      "outputs": [
        {
          "output_type": "execute_result",
          "data": {
            "text/plain": [
              "array([[494,   7],\n",
              "       [ 21, 479]])"
            ]
          },
          "metadata": {},
          "execution_count": 22
        }
      ]
    },
    {
      "cell_type": "markdown",
      "metadata": {
        "id": "EEfLVh0gPSJg"
      },
      "source": [
        "# Pipeline"
      ]
    },
    {
      "cell_type": "code",
      "metadata": {
        "colab": {
          "base_uri": "https://localhost:8080/"
        },
        "id": "FW5Mxni9RbOa",
        "outputId": "2b44cfff-25f5-4763-9a69-8032cb03c94f"
      },
      "source": [
        "pip install --upgrade category_encoders"
      ],
      "execution_count": 16,
      "outputs": [
        {
          "output_type": "stream",
          "name": "stdout",
          "text": [
            "Requirement already satisfied: category_encoders in /usr/local/lib/python3.7/dist-packages (2.3.0)\n",
            "Requirement already satisfied: scipy>=1.0.0 in /usr/local/lib/python3.7/dist-packages (from category_encoders) (1.4.1)\n",
            "Requirement already satisfied: patsy>=0.5.1 in /usr/local/lib/python3.7/dist-packages (from category_encoders) (0.5.2)\n",
            "Requirement already satisfied: pandas>=0.21.1 in /usr/local/lib/python3.7/dist-packages (from category_encoders) (1.1.5)\n",
            "Requirement already satisfied: numpy>=1.14.0 in /usr/local/lib/python3.7/dist-packages (from category_encoders) (1.19.5)\n",
            "Requirement already satisfied: statsmodels>=0.9.0 in /usr/local/lib/python3.7/dist-packages (from category_encoders) (0.10.2)\n",
            "Requirement already satisfied: scikit-learn>=0.20.0 in /usr/local/lib/python3.7/dist-packages (from category_encoders) (0.22.2.post1)\n",
            "Requirement already satisfied: python-dateutil>=2.7.3 in /usr/local/lib/python3.7/dist-packages (from pandas>=0.21.1->category_encoders) (2.8.2)\n",
            "Requirement already satisfied: pytz>=2017.2 in /usr/local/lib/python3.7/dist-packages (from pandas>=0.21.1->category_encoders) (2018.9)\n",
            "Requirement already satisfied: six in /usr/local/lib/python3.7/dist-packages (from patsy>=0.5.1->category_encoders) (1.15.0)\n",
            "Requirement already satisfied: joblib>=0.11 in /usr/local/lib/python3.7/dist-packages (from scikit-learn>=0.20.0->category_encoders) (1.1.0)\n"
          ]
        }
      ]
    },
    {
      "cell_type": "code",
      "metadata": {
        "id": "S2i9Njx9PWJx"
      },
      "source": [
        "pipe = Pipeline([\n",
        "    ('preprocessing', make_pipeline(OrdinalEncoder(), SimpleImputer(strategy='most_frequent'))),\n",
        "    ('svc', SVC(kernel='rbf', C = 10, gamma = 0.1)) \n",
        "])\n",
        "\n",
        "pipe.fit(X_train, y_train);"
      ],
      "execution_count": 17,
      "outputs": []
    },
    {
      "cell_type": "code",
      "metadata": {
        "colab": {
          "base_uri": "https://localhost:8080/"
        },
        "id": "Yn3cLK7RPgEr",
        "outputId": "acc57255-6354-4ca5-8215-2e4b71b23f01"
      },
      "source": [
        "y_pred = pipe.predict(X_test)\n",
        "print('검증 정확도: ', accuracy_score(y_test, y_pred))\n",
        "\n",
        "print(classification_report(y_test, y_pred))"
      ],
      "execution_count": 18,
      "outputs": [
        {
          "output_type": "stream",
          "name": "stdout",
          "text": [
            "검증 정확도:  0.972027972027972\n",
            "              precision    recall  f1-score   support\n",
            "\n",
            "           0       0.96      0.99      0.97       501\n",
            "           1       0.99      0.96      0.97       500\n",
            "\n",
            "    accuracy                           0.97      1001\n",
            "   macro avg       0.97      0.97      0.97      1001\n",
            "weighted avg       0.97      0.97      0.97      1001\n",
            "\n"
          ]
        }
      ]
    },
    {
      "cell_type": "code",
      "metadata": {
        "colab": {
          "base_uri": "https://localhost:8080/"
        },
        "id": "h0adf-1nWvpl",
        "outputId": "7a046e3d-a353-4696-d74c-87e4f1c3c1da"
      },
      "source": [
        "print('Accuracy Score:')\n",
        "print(metrics.accuracy_score(y_test, y_pred_optimal))\n",
        "print('Recall Score:')\n",
        "print(metrics.recall_score(y_test, y_pred_optimal))\n",
        "print('Precision Score:')\n",
        "print(metrics.precision_score(y_test, y_pred_optimal))"
      ],
      "execution_count": 23,
      "outputs": [
        {
          "output_type": "stream",
          "name": "stdout",
          "text": [
            "Accuracy Score:\n",
            "0.972027972027972\n",
            "Recall Score:\n",
            "0.958\n",
            "Precision Score:\n",
            "0.98559670781893\n"
          ]
        }
      ]
    },
    {
      "cell_type": "markdown",
      "metadata": {
        "id": "lg7WSohKZM5E"
      },
      "source": [
        "# 시각화"
      ]
    },
    {
      "cell_type": "code",
      "metadata": {
        "id": "rGkN3aL8gS0d"
      },
      "source": [
        "mini_df = df.sample(n=200, # number of items from axis to return.\n",
        "          random_state=1004)"
      ],
      "execution_count": 24,
      "outputs": []
    },
    {
      "cell_type": "code",
      "metadata": {
        "id": "p-0klVH7dmN5"
      },
      "source": [
        "def plot_svc_decision_function(model, ax=None, plot_support=True):\n",
        "    if ax is None:\n",
        "        ax = plt.gca()\n",
        "    xlim = ax.get_xlim()\n",
        "    ylim = ax.get_ylim()\n",
        "    \n",
        "    # create grid to evaluate model\n",
        "    x = np.linspace(xlim[0], xlim[1], 30)\n",
        "    y = np.linspace(ylim[0], ylim[1], 30)\n",
        "    Y, X = np.meshgrid(y, x)\n",
        "    xy = np.vstack([X.ravel(), Y.ravel()]).T\n",
        "    P = model.decision_function(xy).reshape(X.shape)\n",
        "    \n",
        "    # plot decision boundary and margins\n",
        "    ax.contour(X, Y, P, colors='k',\n",
        "               levels=[-1, 0, 1], alpha=0.5,\n",
        "               linestyles=['--', '-', '--'])\n",
        "    \n",
        "    # plot support vectors\n",
        "    if plot_support:\n",
        "        ax.scatter(model.support_vectors_[:, 0],\n",
        "                   model.support_vectors_[:, 1],\n",
        "                   s=300, linewidth=1, facecolors='none');\n",
        "    ax.set_xlim(xlim)\n",
        "    ax.set_ylim(ylim)"
      ],
      "execution_count": 25,
      "outputs": []
    },
    {
      "cell_type": "code",
      "metadata": {
        "colab": {
          "base_uri": "https://localhost:8080/",
          "height": 394
        },
        "id": "wWSy-X5cZMdS",
        "outputId": "98f1b30e-97ee-48e7-b5cf-690a70ff89b6"
      },
      "source": [
        "clf = SVC(C=0.1, kernel='linear').fit(np.array(X_train.iloc[:,1:3]), y_train)\n",
        "plt.figure(figsize=(10,6))\n",
        "plt.title(\"rbf kernel with C=10\", fontsize=18)\n",
        "plt.scatter(mini_df.iloc[:,1], mini_df.iloc[:,2], c=mini_df.iloc[:,-1], s=50, cmap='cool')\n",
        "plot_svc_decision_function(clf)"
      ],
      "execution_count": 26,
      "outputs": [
        {
          "output_type": "display_data",
          "data": {
            "image/png": "[encoded data removed]",
            "text/plain": [
              "<Figure size 720x432 with 1 Axes>"
            ]
          },
          "metadata": {
            "needs_background": "light"
          }
        }
      ]
    },
    {
      "cell_type": "markdown",
      "metadata": {
        "id": "d8zbmu-v8xyb"
      },
      "source": [
        "# 이상적인 SVC의 시각화<br>\n",
        "![스크린샷 2021-11-11 오후 12.03.13.png](data:image/png;base64,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)\n"
      ]
    },
    {
      "cell_type": "markdown",
      "metadata": {
        "id": "lDpohy3UXaA7"
      },
      "source": [
        "# Model Save\n",
        " - 최적화된 모델의 성능을 저장하여 다음 새로운 데이터에 input시킬 때, 바로 load가능함.\n",
        "\n"
      ]
    },
    {
      "cell_type": "code",
      "metadata": {
        "colab": {
          "base_uri": "https://localhost:8080/"
        },
        "id": "AGJ4jiQBXZXd",
        "outputId": "fab84d47-cdc3-4dcb-b9ee-67d79e32c49e"
      },
      "source": [
        "##### Save trained model\n",
        "joblib.dump(pipe, './svc_gender.pkl') "
      ],
      "execution_count": 27,
      "outputs": [
        {
          "output_type": "execute_result",
          "data": {
            "text/plain": [
              "['./svc_gender.pkl']"
            ]
          },
          "metadata": {},
          "execution_count": 27
        }
      ]
    },
    {
      "cell_type": "markdown",
      "metadata": {
        "id": "E1iZlwwBuW9L"
      },
      "source": [
        "# Permutation Importance(특성 중요도)\n",
        " - 양수는 유의미하다고 판단해도 무방, 음수부턴 의미 없음"
      ]
    },
    {
      "cell_type": "code",
      "metadata": {
        "colab": {
          "base_uri": "https://localhost:8080/",
          "height": 153
        },
        "id": "E2SC6vptr4Io",
        "outputId": "609bd34e-fde6-4b9e-ecd8-7f46479c2dae"
      },
      "source": [
        "svc=SVC(kernel='rbf', C = 10, gamma=0.1).fit(X_train, y_train)\n",
        "perm = PermutationImportance(svc, random_state = 1).fit(X_test, y_test)\n",
        "eli5.show_weights(perm, feature_names = X_test.columns.to_list())"
      ],
      "execution_count": 28,
      "outputs": [
        {
          "output_type": "execute_result",
          "data": {
            "text/html": [
              "\n",
              "    <style>\n",
              "    table.eli5-weights tr:hover {\n",
              "        filter: brightness(85%);\n",
              "    }\n",
              "</style>\n",
              "\n",
              "\n",
              "\n",
              "    \n",
              "\n",
              "    \n",
              "\n",
              "    \n",
              "\n",
              "    \n",
              "\n",
              "    \n",
              "\n",
              "    \n",
              "\n",
              "\n",
              "    \n",
              "\n",
              "    \n",
              "\n",
              "    \n",
              "\n",
              "    \n",
              "\n",
              "    \n",
              "\n",
              "    \n",
              "\n",
              "\n",
              "    \n",
              "\n",
              "    \n",
              "\n",
              "    \n",
              "\n",
              "    \n",
              "\n",
              "    \n",
              "        <table class=\"eli5-weights eli5-feature-importances\" style=\"border-collapse: collapse; border: none; margin-top: 0em; table-layout: auto;\">\n",
              "    <thead>\n",
              "    <tr style=\"border: none;\">\n",
              "        <th style=\"padding: 0 1em 0 0.5em; text-align: right; border: none;\">Weight</th>\n",
              "        <th style=\"padding: 0 0.5em 0 0.5em; text-align: left; border: none;\">Feature</th>\n",
              "    </tr>\n",
              "    </thead>\n",
              "    <tbody>\n",
              "    \n",
              "        <tr style=\"background-color: hsl(120, 100.00%, 80.00%); border: none;\">\n",
              "            <td style=\"padding: 0 1em 0 0.5em; text-align: right; border: none;\">\n",
              "                0.0553\n",
              "                \n",
              "                    &plusmn; 0.0091\n",
              "                \n",
              "            </td>\n",
              "            <td style=\"padding: 0 0.5em 0 0.5em; text-align: left; border: none;\">\n",
              "                nose_wide\n",
              "            </td>\n",
              "        </tr>\n",
              "    \n",
              "        <tr style=\"background-color: hsl(120, 100.00%, 82.39%); border: none;\">\n",
              "            <td style=\"padding: 0 1em 0 0.5em; text-align: right; border: none;\">\n",
              "                0.0462\n",
              "                \n",
              "                    &plusmn; 0.0091\n",
              "                \n",
              "            </td>\n",
              "            <td style=\"padding: 0 0.5em 0 0.5em; text-align: left; border: none;\">\n",
              "                distance_nose_to_lip_long\n",
              "            </td>\n",
              "        </tr>\n",
              "    \n",
              "        <tr style=\"background-color: hsl(120, 100.00%, 85.04%); border: none;\">\n",
              "            <td style=\"padding: 0 1em 0 0.5em; text-align: right; border: none;\">\n",
              "                0.0366\n",
              "                \n",
              "                    &plusmn; 0.0102\n",
              "                \n",
              "            </td>\n",
              "            <td style=\"padding: 0 0.5em 0 0.5em; text-align: left; border: none;\">\n",
              "                lips_thin\n",
              "            </td>\n",
              "        </tr>\n",
              "    \n",
              "        <tr style=\"background-color: hsl(120, 100.00%, 85.73%); border: none;\">\n",
              "            <td style=\"padding: 0 1em 0 0.5em; text-align: right; border: none;\">\n",
              "                0.0342\n",
              "                \n",
              "                    &plusmn; 0.0075\n",
              "                \n",
              "            </td>\n",
              "            <td style=\"padding: 0 0.5em 0 0.5em; text-align: left; border: none;\">\n",
              "                forehead_width_cm\n",
              "            </td>\n",
              "        </tr>\n",
              "    \n",
              "        <tr style=\"background-color: hsl(120, 100.00%, 85.85%); border: none;\">\n",
              "            <td style=\"padding: 0 1em 0 0.5em; text-align: right; border: none;\">\n",
              "                0.0338\n",
              "                \n",
              "                    &plusmn; 0.0051\n",
              "                \n",
              "            </td>\n",
              "            <td style=\"padding: 0 0.5em 0 0.5em; text-align: left; border: none;\">\n",
              "                nose_long\n",
              "            </td>\n",
              "        </tr>\n",
              "    \n",
              "        <tr style=\"background-color: hsl(120, 100.00%, 93.55%); border: none;\">\n",
              "            <td style=\"padding: 0 1em 0 0.5em; text-align: right; border: none;\">\n",
              "                0.0110\n",
              "                \n",
              "                    &plusmn; 0.0057\n",
              "                \n",
              "            </td>\n",
              "            <td style=\"padding: 0 0.5em 0 0.5em; text-align: left; border: none;\">\n",
              "                forehead_height_cm\n",
              "            </td>\n",
              "        </tr>\n",
              "    \n",
              "        <tr style=\"background-color: hsl(0, 100.00%, 98.33%); border: none;\">\n",
              "            <td style=\"padding: 0 1em 0 0.5em; text-align: right; border: none;\">\n",
              "                -0.0016\n",
              "                \n",
              "                    &plusmn; 0.0030\n",
              "                \n",
              "            </td>\n",
              "            <td style=\"padding: 0 0.5em 0 0.5em; text-align: left; border: none;\">\n",
              "                long_hair\n",
              "            </td>\n",
              "        </tr>\n",
              "    \n",
              "    \n",
              "    </tbody>\n",
              "</table>\n",
              "    \n",
              "\n",
              "    \n",
              "\n",
              "\n",
              "    \n",
              "\n",
              "    \n",
              "\n",
              "    \n",
              "\n",
              "    \n",
              "\n",
              "    \n",
              "\n",
              "    \n",
              "\n",
              "\n",
              "\n"
            ],
            "text/plain": [
              "<IPython.core.display.HTML object>"
            ]
          },
          "metadata": {},
          "execution_count": 28
        }
      ]
    },
    {
      "cell_type": "markdown",
      "metadata": {
        "id": "8p6kOpkznPvy"
      },
      "source": [
        "# PDP\n",
        "*   연속형, 범주형 나눠서 진행해야함\n",
        "\n"
      ]
    },
    {
      "cell_type": "code",
      "metadata": {
        "colab": {
          "base_uri": "https://localhost:8080/",
          "height": 297
        },
        "id": "0M9mbbwpvGO0",
        "outputId": "f39243ad-03f0-4ba6-d524-1ae9bcac159d"
      },
      "source": [
        "from sklearn.inspection import plot_partial_dependence, partial_dependence\n",
        "plot_partial_dependence(svc, features=[1,2], X=X_train)"
      ],
      "execution_count": 31,
      "outputs": [
        {
          "output_type": "execute_result",
          "data": {
            "text/plain": [
              "<sklearn.inspection._partial_dependence.PartialDependenceDisplay at 0x7f34c494b690>"
            ]
          },
          "metadata": {},
          "execution_count": 31
        },
        {
          "output_type": "display_data",
          "data": {
            "image/png": "[encoded data removed]",
            "text/plain": [
              "<Figure size 432x288 with 3 Axes>"
            ]
          },
          "metadata": {
            "needs_background": "light"
          }
        }
      ]
    },
    {
      "cell_type": "markdown",
      "metadata": {
        "id": "fWwB9grkvkWG"
      },
      "source": [
        "# 분석결과\n",
        "forehead_width : 14cm기준으로 남녀로 분류될 확률이 높음<br>\n",
        "forehead_height : 앞의 그래프보다 확실하지 않지만, 6cm기준으로 분류될 확률이 높음\n"
      ]
    }
  ]
}