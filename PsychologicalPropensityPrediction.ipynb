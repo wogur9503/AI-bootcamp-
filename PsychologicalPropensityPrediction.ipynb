{
  "nbformat": 4,
  "nbformat_minor": 0,
  "metadata": {
    "colab": {
      "name": "Untitled25.ipynb",
      "provenance": [],
      "authorship_tag": "ABX9TyOl83Az+vP/yDg6nut8f6Eq",
      "include_colab_link": true
    },
    "kernelspec": {
      "name": "python3",
      "display_name": "Python 3"
    },
    "language_info": {
      "name": "python"
    }
  },
  "cells": [
    {
      "cell_type": "markdown",
      "metadata": {
        "id": "view-in-github",
        "colab_type": "text"
      },
      "source": [
        "<a href=\"https://colab.research.google.com/github/wogur9503/AI-bootcamp-/blob/main/PsychologicalPropensityPrediction.ipynb\" target=\"_parent\"><img src=\"https://colab.research.google.com/assets/colab-badge.svg\" alt=\"Open In Colab\"/></a>"
      ]
    },
    {
      "cell_type": "markdown",
      "source": [
        "# **심리 성향 예측 AI**\n",
        "\n"
      ],
      "metadata": {
        "id": "F6zC2ARcc2lZ"
      }
    },
    {
      "cell_type": "markdown",
      "source": [
        "###변수 설명\n",
        "age_group : 연령\n",
        "\n",
        "Q_A / Q_E (a~t) : 질문 변수(질문 내용 설명은 생략)\n",
        "\n",
        "Q_E(a~t) : 질문을 답할 때까지의 시간\n",
        "\n",
        "education : 교육 수준\n",
        "1=고등학교 이하, 2=고등학교, 3=대학졸업, 4=대학원졸, 0=무댓\n",
        "\n",
        "engnat : 모국어가 영어\n",
        "1=Yes, 2=No, 0=무응답\n",
        "\n",
        "familysize : 형제자매 수\n",
        "\n",
        "gender : 성별\n",
        "남성 여성\n",
        "\n",
        "hand : 필기하는 손\n",
        "1=Right, 2=Left, 3=Both, 0=무응답\n",
        "\n",
        "married : 혼인 상태\n",
        "1=미혼, 2=현재 기혼, 3=이전 기혼, 0=기타\n",
        "\n",
        "race : 인종\n",
        "아시아인, 아랍인, 흑인, 호주 원주민, 아메리카 원주민, 백인, 기타\n",
        "\n",
        "religion : 종교\n",
        "불가지론자, 무신론자, 불교도, Christian_Catholic, Christian_Mormon, Christian_Protestant, Christian_Other, 힌두교, 유대인, 이슬람교, 시크교도, 기타\n",
        "\n",
        "tp__(01~07) : 항목에 \"나는 나 자신을 다음과 같이 생각합니다:\"로 평가되었습니다.\n",
        "tp01 : 외향적, 열정적.\n",
        "tp02 : 비판적, 다툼.\n",
        "tp03 : 신뢰할 수 있고 자제력이 있습니다.\n",
        "tp04 : 불안하고 쉽게 화를 낸다.\n",
        "tp05 : 새로운 경험에 열려 있고 복잡합니다.\n",
        "tp06 : 예약됨, 조용함.\n",
        "tp07 : 동정심, 따뜻함.\n",
        "tp08 : 무질서한, 부주의한.\n",
        "tp09 : 차분하고 정서적으로 안정됨.\n",
        "tp10 : 관습적, 창의적이지 않음.\n",
        "\t\t\t\t\t\t\t\t\n",
        "urban : 유년기의 거주 구역\n",
        "1=시골(시골), 2=교외, 3=도시(도시, 도시), 0=무\n",
        "\n",
        "wr_(01~13) : 실존하는 해당 단어의 정의을 앎\n",
        "1=예, 0=아니요\n",
        "wf_(01~03) : 허구인 단어의 정의를 앎\n",
        "1=예, 0=아니요\n",
        "\n",
        "voted (타겟): 지난 해 국가 선거 투표 여부\n",
        "1=예, 2=아니요"
      ],
      "metadata": {
        "id": "g4qJsSbfc_yi"
      }
    },
    {
      "cell_type": "code",
      "execution_count": 1,
      "metadata": {
        "id": "CwGPaod8WORN"
      },
      "outputs": [],
      "source": [
        "import random\n",
        "from datetime import datetime\n",
        "\n",
        "import numpy as np\n",
        "import pandas as pd\n",
        "import torch\n",
        "from sklearn.model_selection import StratifiedKFold\n",
        "from torch import nn, optim\n",
        "from torch.utils.data import DataLoader\n",
        "from torch.utils.data import TensorDataset\n",
        "from tqdm import tqdm"
      ]
    },
    {
      "cell_type": "code",
      "source": [
        "random.seed(0)\n",
        "np.random.seed(0)\n",
        "torch.manual_seed(0)\n",
        "torch.backends.cudnn.deterministic = True\n",
        "torch.backends.cudnn.benchmark = False\n",
        "\n",
        "DEVICE = 'cuda:0' if torch.cuda.is_available() else 'cpu'\n",
        "\n",
        "drop_list = ['QaE', 'QbE', 'QcE', 'QdE', 'QeE',\n",
        "             'QfE', 'QgE', 'QhE', 'QiE', 'QjE',\n",
        "             'QkE', 'QlE', 'QmE', 'QnE', 'QoE',\n",
        "             'QpE', 'QqE', 'QrE', 'QsE', 'QtE',\n",
        "             'index', 'hand']\n",
        "replace_dict = {'education': str, 'engnat': str, 'married': str, 'urban': str}\n",
        "train_data = pd.read_csv('../data/train.csv')\n",
        "test_data = pd.read_csv('../data/test_x.csv')\n",
        "train_data = train_data.drop(train_data[train_data.familysize > 50].index)\n",
        "train_y = train_data['voted']\n",
        "train_x = train_data.drop(drop_list + ['voted'], axis=1)\n",
        "test_x = test_data.drop(drop_list, axis=1)\n",
        "train_x = train_x.astype(replace_dict)\n",
        "test_x = test_x.astype(replace_dict)\n",
        "train_x = pd.get_dummies(train_x)\n",
        "test_x = pd.get_dummies(test_x)\n",
        "train_y = 2 - train_y.to_numpy()\n",
        "train_x = train_x.to_numpy()\n",
        "test_x = test_x.to_numpy()\n",
        "\n",
        "train_y_t = torch.tensor(train_y, dtype=torch.float32)\n",
        "train_x_t = torch.tensor(train_x, dtype=torch.float32)\n",
        "test_x_t = torch.tensor(test_x, dtype=torch.float32)\n",
        "train_x_t[:, :20] = (train_x_t[:, :20] - 3.) / 2.\n",
        "test_x_t[:, :20] = (test_x_t[:, :20] - 3.) / 2\n",
        "train_x_t[:, 20] = (train_x_t[:, 20] - 5.) / 4.\n",
        "test_x_t[:, 20] = (test_x_t[:, 20] - 5.) / 4.\n",
        "train_x_t[:, 21:31] = (train_x_t[:, 21:31] - 3.5) / 3.5\n",
        "test_x_t[:, 21:31] = (test_x_t[:, 21:31] - 3.5) / 3.5\n",
        "test_len = len(test_x_t)\n",
        "\n",
        "N_REPEAT = 5\n",
        "N_SKFOLD = 7\n",
        "N_EPOCH = 48\n",
        "BATCH_SIZE = 72\n",
        "LOADER_PARAM = {\n",
        "    'batch_size': BATCH_SIZE,\n",
        "    'num_workers': 4,\n",
        "    'pin_memory': True\n",
        "}\n",
        "prediction = np.zeros((test_len, 1), dtype=np.float32)\n",
        "\n",
        "for repeat in range(N_REPEAT):\n",
        "\n",
        "    skf, tot = StratifiedKFold(n_splits=N_SKFOLD, random_state=repeat, shuffle=True), 0.\n",
        "    for skfold, (train_idx, valid_idx) in enumerate(skf.split(train_x, train_y)):\n",
        "        train_idx, valid_idx = list(train_idx), list(valid_idx)\n",
        "        train_loader = DataLoader(TensorDataset(train_x_t[train_idx, :], train_y_t[train_idx]),\n",
        "                                  shuffle=True, drop_last=True, **LOADER_PARAM)\n",
        "        valid_loader = DataLoader(TensorDataset(train_x_t[valid_idx, :], train_y_t[valid_idx]),\n",
        "                                  shuffle=False, drop_last=False, **LOADER_PARAM)\n",
        "        test_loader = DataLoader(TensorDataset(test_x_t, torch.zeros((test_len,), dtype=torch.float32)),\n",
        "                                 shuffle=False, drop_last=False, **LOADER_PARAM)\n",
        "        model = nn.Sequential(\n",
        "            nn.Dropout(0.05),\n",
        "            nn.Linear(91, 180, bias=False),\n",
        "            nn.LeakyReLU(0.05, inplace=True),\n",
        "            nn.Dropout(0.5),\n",
        "            nn.Linear(180, 32, bias=False),\n",
        "            nn.ReLU(inplace=True),\n",
        "            nn.Linear(32, 1)\n",
        "        ).to(DEVICE)\n",
        "        criterion = torch.nn.BCEWithLogitsLoss(pos_weight=torch.tensor([1.20665], device=DEVICE))\n",
        "        optimizer = optim.AdamW(model.parameters(), lr=5e-3, weight_decay=7.8e-2)\n",
        "        scheduler = optim.lr_scheduler.CosineAnnealingWarmRestarts(\n",
        "            optimizer, T_0=N_EPOCH // 6, eta_min=4e-4)\n",
        "        prediction_t, loss_t = np.zeros((test_len, 1), dtype=np.float32), 1.\n",
        "\n",
        "        # for epoch in range(N_EPOCH):\n",
        "        for epoch in tqdm(range(N_EPOCH), desc='{:02d}/{:02d}'.format(skfold + 1, N_SKFOLD)):\n",
        "            model.train()\n",
        "            for idx, (xx, yy) in enumerate(train_loader):\n",
        "                optimizer.zero_grad()\n",
        "                xx, yy = xx.to(DEVICE), yy.to(DEVICE)\n",
        "                pred = model(xx).squeeze()\n",
        "                loss = criterion(pred, yy)\n",
        "                loss.backward()\n",
        "                optimizer.step()\n",
        "                scheduler.step(epoch + idx / len(train_loader))\n",
        "\n",
        "            with torch.no_grad():\n",
        "                model.eval()\n",
        "                running_acc, running_loss, running_count = 0, 0., 0\n",
        "                for xx, yy in valid_loader:\n",
        "                    xx, yy = xx.to(DEVICE), yy.to(DEVICE)\n",
        "                    pred = model(xx).squeeze()\n",
        "                    loss = criterion(pred, yy)\n",
        "                    running_loss += loss.item() * len(yy)\n",
        "                    running_count += len(yy)\n",
        "                    running_acc += ((torch.sigmoid(pred) > 0.5).float() == yy).sum().item()\n",
        "                # print('R{:02d} S{:02d} E{:02d} | {:6.4f}, {:5.2f}%'\n",
        "                #       .format(repeat + 1, skfold + 1, epoch + 1, running_loss / running_count,\n",
        "                #               running_acc / running_count * 100))\n",
        "\n",
        "                if running_loss / running_count < loss_t:\n",
        "                    loss_t = running_loss / running_count\n",
        "                    for idx, (xx, _) in enumerate(test_loader):\n",
        "                        xx = xx.to(DEVICE)\n",
        "                        pred = (2. - torch.sigmoid(model(xx).detach().to('cpu'))).numpy()\n",
        "                        prediction_t[BATCH_SIZE * idx:min(BATCH_SIZE * (idx + 1), len(prediction)), :] \\\n",
        "                            = pred[:, :].copy()\n",
        "        prediction[:, :] += prediction_t[:, :].copy() / (N_REPEAT * N_SKFOLD)\n",
        "        tot += loss_t\n",
        "    print('R{} -> {:6.4f}'.format(repeat + 1, tot / N_SKFOLD))\n",
        "\n",
        "df = pd.read_csv('../data/sample_submission.csv')\n",
        "df.iloc[:, 1:] = prediction"
      ],
      "metadata": {
        "id": "z-tq_BjBWVZz"
      },
      "execution_count": null,
      "outputs": []
    },
    {
      "cell_type": "code",
      "source": [
        "df.to_csv('../data/model3.csv', index=False)"
      ],
      "metadata": {
        "id": "yc4S_X7yZby6"
      },
      "execution_count": null,
      "outputs": []
    },
    {
      "cell_type": "code",
      "source": [
        "model1 = pd.read_csv('../data/model1.csv', index_col = 'index')\n",
        "model2 = pd.read_csv('../data/model2.csv', index_col='index')\n",
        "\n",
        "pred_y = (model1)*(0.7) + (model2)*(0.3)\n",
        "\n",
        "test = pd.read_csv('../data/test_x.csv')\n",
        "index = test['index']\n",
        "\n",
        "submission = pd.DataFrame({\n",
        "    'index': index,\n",
        "    'voted': pred_y['voted']\n",
        "    })\n",
        "\n",
        "submission.to_csv('../data/combined_model1_model2.csv', index=False)"
      ],
      "metadata": {
        "id": "Lk8RDLypZeSA"
      },
      "execution_count": null,
      "outputs": []
    },
    {
      "cell_type": "code",
      "source": [
        "combined_12 = pd.read_csv('../data/combined_model1_model2.csv', index_col = 'index')\n",
        "model3 = pd.read_csv('../data/model3.csv', index_col='index')\n",
        "model3['voted'] = model3['voted']-1"
      ],
      "metadata": {
        "id": "HYs_z02DZgqu"
      },
      "execution_count": null,
      "outputs": []
    },
    {
      "cell_type": "code",
      "source": [
        "pred_y = (model3)*(0.8) + (combined_12)*(0.2)\n",
        "\n",
        "test = pd.read_csv('../data/test_x.csv')\n",
        "index = test['index']\n",
        "\n",
        "submission = pd.DataFrame({\n",
        "    'index': index,\n",
        "    'voted': pred_y['voted']\n",
        "    })\n",
        "\n",
        "submission.to_csv('../data/submission_final.csv', index=False)"
      ],
      "metadata": {
        "id": "AnXbEzAJZiNK"
      },
      "execution_count": null,
      "outputs": []
    }
  ]
}