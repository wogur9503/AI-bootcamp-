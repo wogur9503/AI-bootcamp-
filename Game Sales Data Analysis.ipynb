{
  "nbformat": 4,
  "nbformat_minor": 0,
  "metadata": {
    "colab": {
      "name": "Untitled9.ipynb",
      "provenance": [],
      "authorship_tag": "ABX9TyNU8QfI5m57qYlxtcjt4chK",
      "include_colab_link": true
    },
    "kernelspec": {
      "name": "python3",
      "display_name": "Python 3"
    },
    "language_info": {
      "name": "python"
    }
  },
  "cells": [
    {
      "cell_type": "markdown",
      "metadata": {
        "id": "view-in-github",
        "colab_type": "text"
      },
      "source": [
        "<a href=\"https://colab.research.google.com/github/wogur9503/AI-bootcamp-/blob/main/Game%20Sales%20Data%20Analysis.ipynb\" target=\"_parent\"><img src=\"https://colab.research.google.com/assets/colab-badge.svg\" alt=\"Open In Colab\"/></a>"
      ]
    },
    {
      "cell_type": "markdown",
      "metadata": {
        "id": "sp_hXb0XIvmf"
      },
      "source": [
        "# **프로젝트 : 게임데이터 분석**\n",
        "\n",
        "최소 요구 조건\n",
        "\n",
        "1.   지역에 따라서 선호하는 게임 장르가 다를까 라는 질문에 대답을 하셔야합니다.\n",
        "2.   연도별 게임의 트렌드가 있을까 라는 질문에 대답을 하셔야합니다.\n",
        "3.   출고량이 높은 게임에 대한 분석 및 시각화 프로세스가 포함되어야 합니다.\n",
        "\n",
        "\n"
      ]
    },
    {
      "cell_type": "code",
      "metadata": {
        "id": "9xfNWF2hHUQQ"
      },
      "source": [
        "import pandas as pd\n",
        "import numpy as np\n",
        "import matplotlib.pyplot as plt\n",
        "import seaborn as sns"
      ],
      "execution_count": 2,
      "outputs": []
    },
    {
      "cell_type": "code",
      "metadata": {
        "colab": {
          "base_uri": "https://localhost:8080/",
          "height": 206
        },
        "id": "7bGNWTdWHei5",
        "outputId": "48735e6e-975f-42e8-a6d4-739bcab86da5"
      },
      "source": [
        "vgames_data = pd.read_csv('vgames2.csv')\n",
        "vgames_data.head()\n",
        "vgames_data = vgames_data.drop(['Unnamed: 0'], axis=1)\n",
        "vgames_data.head()"
      ],
      "execution_count": 3,
      "outputs": [
        {
          "output_type": "execute_result",
          "data": {
            "text/html": [
              "<div>\n",
              "<style scoped>\n",
              "    .dataframe tbody tr th:only-of-type {\n",
              "        vertical-align: middle;\n",
              "    }\n",
              "\n",
              "    .dataframe tbody tr th {\n",
              "        vertical-align: top;\n",
              "    }\n",
              "\n",
              "    .dataframe thead th {\n",
              "        text-align: right;\n",
              "    }\n",
              "</style>\n",
              "<table border=\"1\" class=\"dataframe\">\n",
              "  <thead>\n",
              "    <tr style=\"text-align: right;\">\n",
              "      <th></th>\n",
              "      <th>Name</th>\n",
              "      <th>Platform</th>\n",
              "      <th>Year</th>\n",
              "      <th>Genre</th>\n",
              "      <th>Publisher</th>\n",
              "      <th>NA_Sales</th>\n",
              "      <th>EU_Sales</th>\n",
              "      <th>JP_Sales</th>\n",
              "      <th>Other_Sales</th>\n",
              "    </tr>\n",
              "  </thead>\n",
              "  <tbody>\n",
              "    <tr>\n",
              "      <th>0</th>\n",
              "      <td>Candace Kane's Candy Factory</td>\n",
              "      <td>DS</td>\n",
              "      <td>2008.0</td>\n",
              "      <td>Action</td>\n",
              "      <td>Destineer</td>\n",
              "      <td>0.04</td>\n",
              "      <td>0</td>\n",
              "      <td>0</td>\n",
              "      <td>0</td>\n",
              "    </tr>\n",
              "    <tr>\n",
              "      <th>1</th>\n",
              "      <td>The Munchables</td>\n",
              "      <td>Wii</td>\n",
              "      <td>2009.0</td>\n",
              "      <td>Action</td>\n",
              "      <td>Namco Bandai Games</td>\n",
              "      <td>0.17</td>\n",
              "      <td>0</td>\n",
              "      <td>0</td>\n",
              "      <td>0.01</td>\n",
              "    </tr>\n",
              "    <tr>\n",
              "      <th>2</th>\n",
              "      <td>Otome wa Oanesama Boku ni Koi Shiteru Portable</td>\n",
              "      <td>PSP</td>\n",
              "      <td>2010.0</td>\n",
              "      <td>Adventure</td>\n",
              "      <td>Alchemist</td>\n",
              "      <td>0</td>\n",
              "      <td>0</td>\n",
              "      <td>0.02</td>\n",
              "      <td>0</td>\n",
              "    </tr>\n",
              "    <tr>\n",
              "      <th>3</th>\n",
              "      <td>Deal or No Deal: Special Edition</td>\n",
              "      <td>DS</td>\n",
              "      <td>2010.0</td>\n",
              "      <td>Misc</td>\n",
              "      <td>Zoo Games</td>\n",
              "      <td>0.04</td>\n",
              "      <td>0</td>\n",
              "      <td>0</td>\n",
              "      <td>0</td>\n",
              "    </tr>\n",
              "    <tr>\n",
              "      <th>4</th>\n",
              "      <td>Ben 10 Ultimate Alien: Cosmic Destruction</td>\n",
              "      <td>PS3</td>\n",
              "      <td>2010.0</td>\n",
              "      <td>Platform</td>\n",
              "      <td>D3Publisher</td>\n",
              "      <td>0.12</td>\n",
              "      <td>0.09</td>\n",
              "      <td>0</td>\n",
              "      <td>0.04</td>\n",
              "    </tr>\n",
              "  </tbody>\n",
              "</table>\n",
              "</div>"
            ],
            "text/plain": [
              "                                             Name Platform  ...  JP_Sales Other_Sales\n",
              "0                    Candace Kane's Candy Factory       DS  ...         0           0\n",
              "1                                  The Munchables      Wii  ...         0        0.01\n",
              "2  Otome wa Oanesama Boku ni Koi Shiteru Portable      PSP  ...      0.02           0\n",
              "3                Deal or No Deal: Special Edition       DS  ...         0           0\n",
              "4       Ben 10 Ultimate Alien: Cosmic Destruction      PS3  ...         0        0.04\n",
              "\n",
              "[5 rows x 9 columns]"
            ]
          },
          "metadata": {},
          "execution_count": 3
        }
      ]
    },
    {
      "cell_type": "markdown",
      "metadata": {
        "id": "qJH1z_BAKhC8"
      },
      "source": [
        "**지역에 따라 선호하는 게임 장르 분석**"
      ]
    },
    {
      "cell_type": "code",
      "metadata": {
        "id": "3m8xzs2CHqV2"
      },
      "source": [
        "# sales_data라는 새로운 데이터 프레임 생성\n",
        "sales_data = pd.DataFrame()\n",
        "sales_data['Genre'] = vgames_data['Genre']\n",
        "sales_data['NA_Sales'] = vgames_data['NA_Sales']\n",
        "sales_data['EU_Sales'] = vgames_data['EU_Sales']\n",
        "sales_data['JP_Sales'] = vgames_data['JP_Sales']\n",
        "sales_data['Other_Sales'] = vgames_data['Other_Sales']"
      ],
      "execution_count": 4,
      "outputs": []
    },
    {
      "cell_type": "code",
      "metadata": {
        "id": "5sLchxitSufX"
      },
      "source": [
        "# Sales데이터 스트링에서 인티저형태 변환\n",
        "def sales_2int(a) :\n",
        "  if a[-1] == 'M':\n",
        "    a = a[:-1]\n",
        "    a = float(a)\n",
        "    a = a * 1000000\n",
        "  elif a[-1] == \"K\":\n",
        "    a = a[:-1]\n",
        "    a = float(a)\n",
        "    a = a * 1000\n",
        "  else :\n",
        "    a = float(a)\n",
        "    a = a * 1000000  \n",
        "  return float(a / 1000000)"
      ],
      "execution_count": 5,
      "outputs": []
    },
    {
      "cell_type": "code",
      "metadata": {
        "id": "-b1V6usKVgXo"
      },
      "source": [
        "for i in range(len(sales_data['NA_Sales'])):\n",
        "  sales_data['NA_Sales'][i] = sales_2int(sales_data['NA_Sales'][i])\n",
        "for i in range(len(sales_data['EU_Sales'])):\n",
        "  sales_data['EU_Sales'][i] = sales_2int(sales_data['EU_Sales'][i])\n",
        "for i in range(len(sales_data['JP_Sales'])):\n",
        "  sales_data['JP_Sales'][i] = sales_2int(sales_data['JP_Sales'][i])\n",
        "for i in range(len(sales_data['NA_Sales'])):\n",
        "  sales_data['Other_Sales'][i] = sales_2int(sales_data['Other_Sales'][i])"
      ],
      "execution_count": 6,
      "outputs": []
    },
    {
      "cell_type": "code",
      "metadata": {
        "id": "ZJsbZ8ZtVnKS"
      },
      "source": [
        "# 장르 순으로 sorting 후, 장르 인덱스를 다시 열로 빼냄.\n",
        "sales_data.sort_values(by='Genre', inplace=True)\n",
        "sales_data2 = sales_data.groupby('Genre').sum()\n",
        "sales_data2 = sales_data2.reset_index()\n",
        "sales_data2['Genre'] = ['Action', 'Adventure', 'Fighting', 'Misc', 'Platform', 'Puzzle',\n",
        "       'Racing', 'Role-Playing', 'Shooter', 'Simulation', 'Sports',\n",
        "       'Strategy']"
      ],
      "execution_count": 7,
      "outputs": []
    },
    {
      "cell_type": "code",
      "metadata": {
        "colab": {
          "base_uri": "https://localhost:8080/",
          "height": 700
        },
        "id": "jNuchB7Wa9MK",
        "outputId": "be38a2c1-44e2-4389-d7b0-39a27ac851a7"
      },
      "source": [
        "# 시각화\n",
        "sales_data2.plot(x='Genre', y=[\"NA_Sales\", \"JP_Sales\", \"EU_Sales\", \"Other_Sales\"], kind=\"barh\",figsize=(12, 12))\n",
        "plt.show()"
      ],
      "execution_count": 8,
      "outputs": [
        {
          "output_type": "display_data",
          "data": {
            "image/png": "[encoded data removed]",
            "text/plain": [
              "<Figure size 864x864 with 1 Axes>"
            ]
          },
          "metadata": {
            "needs_background": "light"
          }
        }
      ]
    },
    {
      "cell_type": "markdown",
      "metadata": {
        "id": "wrIsG4EkIcya"
      },
      "source": [
        "# **결과 보고**\n",
        "**NA에서는 전체적으로 높은 소비량을 보이고 그중에서도 Action을 선호하는 경향을 띄고,**\n",
        "\n",
        "**EU는 NA에 비해 전체 소비량은 떨어지지만 마찬가지로 Action을 선호함.**\n",
        "\n",
        "**JP는 EU와 비슷한 소비량을 드러내고 Role-Playing장르를 선호하며,**\n",
        "\n",
        "**기타 국가들에서는 위 3개 분류 소비량보다 떨어지지만 선호장르는 Action으로 같다.**"
      ]
    },
    {
      "cell_type": "markdown",
      "metadata": {
        "id": "Ydl49PHVJvO2"
      },
      "source": [
        "# **연도별 게임 트렌드**"
      ]
    },
    {
      "cell_type": "code",
      "metadata": {
        "colab": {
          "base_uri": "https://localhost:8080/"
        },
        "id": "9BXtOHy8Zkp8",
        "outputId": "0aedb524-062a-4e11-8f3f-d28d4ccce35c"
      },
      "source": [
        "trend_data = pd.DataFrame()\n",
        "\n",
        "vgames_data\n",
        "\n",
        "trend_data['Year'] = vgames_data['Year']\n",
        "trend_data['Platform'] = vgames_data['Platform']\n",
        "trend_data['Genre'] = vgames_data['Genre']\n",
        "\n",
        "# 결측치 제거\n",
        "trend_data.fillna(0)\n",
        "for i in range(len(trend_data['Year'])):\n",
        "  if 1000 < float(trend_data['Year'][i]) < 2021:\n",
        "    trend_data['Year'][i] = float(trend_data['Year'][i])\n",
        "  else:\n",
        "    trend_data['Year'][i] = 0"
      ],
      "execution_count": 9,
      "outputs": [
        {
          "output_type": "stream",
          "name": "stderr",
          "text": [
            "/usr/local/lib/python3.7/dist-packages/ipykernel_launcher.py:13: SettingWithCopyWarning: \n",
            "A value is trying to be set on a copy of a slice from a DataFrame\n",
            "\n",
            "See the caveats in the documentation: https://pandas.pydata.org/pandas-docs/stable/user_guide/indexing.html#returning-a-view-versus-a-copy\n",
            "  del sys.path[0]\n",
            "/usr/local/lib/python3.7/dist-packages/ipykernel_launcher.py:15: SettingWithCopyWarning: \n",
            "A value is trying to be set on a copy of a slice from a DataFrame\n",
            "\n",
            "See the caveats in the documentation: https://pandas.pydata.org/pandas-docs/stable/user_guide/indexing.html#returning-a-view-versus-a-copy\n",
            "  from ipykernel import kernelapp as app\n"
          ]
        }
      ]
    },
    {
      "cell_type": "code",
      "metadata": {
        "id": "yx18oj5IJ_gC"
      },
      "source": [
        "def makeFive(a):\n",
        "  a = int(a / 5)*5\n",
        "  return a"
      ],
      "execution_count": 10,
      "outputs": []
    },
    {
      "cell_type": "code",
      "metadata": {
        "id": "sH6TAUTkRvU0"
      },
      "source": [
        "# Year칼럼 5단위로 연도 묶음\n",
        "trend_data['Year'] = trend_data['Year'].apply(makeFive)"
      ],
      "execution_count": 11,
      "outputs": []
    },
    {
      "cell_type": "code",
      "metadata": {
        "id": "ULNrsPPlVgNk"
      },
      "source": [
        "trend_data['Year'] = trend_data['Year'].apply(str)"
      ],
      "execution_count": 12,
      "outputs": []
    },
    {
      "cell_type": "code",
      "metadata": {
        "id": "lkegF2dSVyGj"
      },
      "source": [
        "# groupby함수를 이용해서 Year별 플랫폼 파이 확인\n",
        "trend_data_platform = trend_data.groupby(['Year'])['Platform'].value_counts()\n",
        "trend_data_platform = pd.DataFrame(trend_data_platform)\n",
        "# trend_data_genre = pd.DataFrame()\n",
        "# trend_data_genre['Year'] = trend_data['Year']\n",
        "# trend_data_genre['Genre'] = trend_data['Genre']"
      ],
      "execution_count": 13,
      "outputs": []
    },
    {
      "cell_type": "code",
      "metadata": {
        "colab": {
          "base_uri": "https://localhost:8080/",
          "height": 161
        },
        "id": "wU4tveeqZYVR",
        "outputId": "6431f125-d9ff-4e2c-ff39-4a6d35b55cbe"
      },
      "source": [
        "trend_data_platform.T"
      ],
      "execution_count": 14,
      "outputs": [
        {
          "output_type": "execute_result",
          "data": {
            "text/html": [
              "<div>\n",
              "<style scoped>\n",
              "    .dataframe tbody tr th:only-of-type {\n",
              "        vertical-align: middle;\n",
              "    }\n",
              "\n",
              "    .dataframe tbody tr th {\n",
              "        vertical-align: top;\n",
              "    }\n",
              "\n",
              "    .dataframe thead tr th {\n",
              "        text-align: left;\n",
              "    }\n",
              "</style>\n",
              "<table border=\"1\" class=\"dataframe\">\n",
              "  <thead>\n",
              "    <tr>\n",
              "      <th>Year</th>\n",
              "      <th colspan=\"20\" halign=\"left\">0</th>\n",
              "      <th colspan=\"2\" halign=\"left\">1980</th>\n",
              "      <th colspan=\"5\" halign=\"left\">1985</th>\n",
              "      <th colspan=\"11\" halign=\"left\">1990</th>\n",
              "      <th colspan=\"2\" halign=\"left\">1995</th>\n",
              "      <th>...</th>\n",
              "      <th colspan=\"6\" halign=\"left\">2000</th>\n",
              "      <th colspan=\"11\" halign=\"left\">2005</th>\n",
              "      <th colspan=\"12\" halign=\"left\">2010</th>\n",
              "      <th colspan=\"10\" halign=\"left\">2015</th>\n",
              "      <th>2020</th>\n",
              "    </tr>\n",
              "    <tr>\n",
              "      <th>Platform</th>\n",
              "      <th>DS</th>\n",
              "      <th>PS2</th>\n",
              "      <th>Wii</th>\n",
              "      <th>X360</th>\n",
              "      <th>PS3</th>\n",
              "      <th>XB</th>\n",
              "      <th>PC</th>\n",
              "      <th>PSP</th>\n",
              "      <th>2600</th>\n",
              "      <th>GC</th>\n",
              "      <th>GBA</th>\n",
              "      <th>PS</th>\n",
              "      <th>3DS</th>\n",
              "      <th>PSV</th>\n",
              "      <th>N64</th>\n",
              "      <th>PS4</th>\n",
              "      <th>SAT</th>\n",
              "      <th>SNES</th>\n",
              "      <th>GB</th>\n",
              "      <th>NES</th>\n",
              "      <th>2600</th>\n",
              "      <th>NES</th>\n",
              "      <th>NES</th>\n",
              "      <th>2600</th>\n",
              "      <th>GB</th>\n",
              "      <th>PC</th>\n",
              "      <th>DS</th>\n",
              "      <th>SNES</th>\n",
              "      <th>GEN</th>\n",
              "      <th>NES</th>\n",
              "      <th>GB</th>\n",
              "      <th>SAT</th>\n",
              "      <th>PS</th>\n",
              "      <th>PC</th>\n",
              "      <th>NG</th>\n",
              "      <th>SCD</th>\n",
              "      <th>3DO</th>\n",
              "      <th>GG</th>\n",
              "      <th>PS</th>\n",
              "      <th>N64</th>\n",
              "      <th>...</th>\n",
              "      <th>N64</th>\n",
              "      <th>DC</th>\n",
              "      <th>GB</th>\n",
              "      <th>DS</th>\n",
              "      <th>PSP</th>\n",
              "      <th>WS</th>\n",
              "      <th>DS</th>\n",
              "      <th>PS2</th>\n",
              "      <th>Wii</th>\n",
              "      <th>PSP</th>\n",
              "      <th>X360</th>\n",
              "      <th>PS3</th>\n",
              "      <th>PC</th>\n",
              "      <th>XB</th>\n",
              "      <th>GBA</th>\n",
              "      <th>GC</th>\n",
              "      <th>DC</th>\n",
              "      <th>PS3</th>\n",
              "      <th>X360</th>\n",
              "      <th>DS</th>\n",
              "      <th>PSP</th>\n",
              "      <th>Wii</th>\n",
              "      <th>3DS</th>\n",
              "      <th>PC</th>\n",
              "      <th>PSV</th>\n",
              "      <th>WiiU</th>\n",
              "      <th>PS4</th>\n",
              "      <th>XOne</th>\n",
              "      <th>PS2</th>\n",
              "      <th>PS4</th>\n",
              "      <th>PSV</th>\n",
              "      <th>XOne</th>\n",
              "      <th>3DS</th>\n",
              "      <th>PS3</th>\n",
              "      <th>PC</th>\n",
              "      <th>X360</th>\n",
              "      <th>WiiU</th>\n",
              "      <th>Wii</th>\n",
              "      <th>PSP</th>\n",
              "      <th>DS</th>\n",
              "    </tr>\n",
              "  </thead>\n",
              "  <tbody>\n",
              "    <tr>\n",
              "      <th>Platform</th>\n",
              "      <td>46</td>\n",
              "      <td>46</td>\n",
              "      <td>40</td>\n",
              "      <td>35</td>\n",
              "      <td>33</td>\n",
              "      <td>26</td>\n",
              "      <td>23</td>\n",
              "      <td>23</td>\n",
              "      <td>17</td>\n",
              "      <td>17</td>\n",
              "      <td>15</td>\n",
              "      <td>14</td>\n",
              "      <td>13</td>\n",
              "      <td>6</td>\n",
              "      <td>5</td>\n",
              "      <td>3</td>\n",
              "      <td>3</td>\n",
              "      <td>3</td>\n",
              "      <td>2</td>\n",
              "      <td>1</td>\n",
              "      <td>103</td>\n",
              "      <td>19</td>\n",
              "      <td>55</td>\n",
              "      <td>13</td>\n",
              "      <td>11</td>\n",
              "      <td>2</td>\n",
              "      <td>1</td>\n",
              "      <td>147</td>\n",
              "      <td>27</td>\n",
              "      <td>23</td>\n",
              "      <td>22</td>\n",
              "      <td>19</td>\n",
              "      <td>17</td>\n",
              "      <td>11</td>\n",
              "      <td>6</td>\n",
              "      <td>6</td>\n",
              "      <td>1</td>\n",
              "      <td>1</td>\n",
              "      <td>894</td>\n",
              "      <td>244</td>\n",
              "      <td>...</td>\n",
              "      <td>70</td>\n",
              "      <td>29</td>\n",
              "      <td>26</td>\n",
              "      <td>23</td>\n",
              "      <td>15</td>\n",
              "      <td>4</td>\n",
              "      <td>1584</td>\n",
              "      <td>1014</td>\n",
              "      <td>835</td>\n",
              "      <td>679</td>\n",
              "      <td>551</td>\n",
              "      <td>415</td>\n",
              "      <td>333</td>\n",
              "      <td>244</td>\n",
              "      <td>178</td>\n",
              "      <td>141</td>\n",
              "      <td>2</td>\n",
              "      <td>777</td>\n",
              "      <td>631</td>\n",
              "      <td>508</td>\n",
              "      <td>493</td>\n",
              "      <td>446</td>\n",
              "      <td>377</td>\n",
              "      <td>372</td>\n",
              "      <td>236</td>\n",
              "      <td>105</td>\n",
              "      <td>90</td>\n",
              "      <td>80</td>\n",
              "      <td>45</td>\n",
              "      <td>243</td>\n",
              "      <td>171</td>\n",
              "      <td>133</td>\n",
              "      <td>119</td>\n",
              "      <td>104</td>\n",
              "      <td>88</td>\n",
              "      <td>48</td>\n",
              "      <td>38</td>\n",
              "      <td>4</td>\n",
              "      <td>3</td>\n",
              "      <td>1</td>\n",
              "    </tr>\n",
              "  </tbody>\n",
              "</table>\n",
              "<p>1 rows × 96 columns</p>\n",
              "</div>"
            ],
            "text/plain": [
              "Year       0                               ... 2015                            2020\n",
              "Platform  DS PS2 Wii X360 PS3  XB  PC PSP  ...  3DS  PS3  PC X360 WiiU Wii PSP   DS\n",
              "Platform  46  46  40   35  33  26  23  23  ...  119  104  88   48   38   4   3    1\n",
              "\n",
              "[1 rows x 96 columns]"
            ]
          },
          "metadata": {},
          "execution_count": 14
        }
      ]
    },
    {
      "cell_type": "markdown",
      "metadata": {
        "id": "AP4AiANzeUWx"
      },
      "source": [
        "# **분석 결과 보고**\n",
        "\n",
        "집계되지 않은 연도(0)을 제외한 플랫폼 트렌드를 집계했다.\n",
        "최초 연도를 10단위로 잘라 분석을 시도했지만 10단위로 자르기엔 시장변화가\n",
        "그보다 빠르다는 판단 하에 5단위로 다시 분석했다.\n",
        "\n",
        "집계된 디바이스(플랫폼)중 알고있는 디바이스가 많이 없고, 과거 게임 시장에 대한 지식이\n",
        "전무하기 때문에 집계된 데이터 기반으로 흐름을 분석해보자면, \n",
        "\n",
        "게임기의 보급이 시작되었을 즈음으로 보이는 1980년에는 '2600'이라는 디바이스가 시장을\n",
        "독점하다시피 했을 것으로 보인다.\n",
        "\n",
        "85년에는 80년 당시 2위로 시장을 차지하던 \"NES\"가 선두주자로, 1위였던 \"2600\"이 2위로\n",
        "시장 점유율을 뒤집어낸 것으로 보인다.\n",
        "\n",
        "90년에는 \"SNES\"가 시장을 진입하며 시장점유율 1위를 달리지만, 다양한 디바이스가 시장을 진입한 것을\n",
        "확인할 수 있다.\n",
        "\n",
        "95년도부터 필자도 알고 있는 \"PS\"(플레이스테이션으로 추측)가 등장하며 등장과 거의 동시에 시장을 20년까지 장악한다.\n",
        "\n",
        "05-10년도에는 \"DS\",\"Wii\"와\"PS2\",\"PSP\",\"PS3\"등 플레이스테이션사와 타기업들의 경쟁이 보다 심화되었음을 보인다.\n",
        "\n",
        "15년도부터 수집된 데이터 기반에는 게임시장(콘솔, 게임기)이 축소된 것으로 보인다.\n",
        "추측컨데, 온라인 게임시장의 파이가 게임기 시장의 파이의 점유율을 크게 상회한 것으로 추측한다."
      ]
    },
    {
      "cell_type": "markdown",
      "metadata": {
        "id": "TmU4eeWEjHrc"
      },
      "source": [
        "# **출고량이 높은 게임에 대한 분석 및 시각화 프로세스**"
      ]
    },
    {
      "cell_type": "code",
      "metadata": {
        "colab": {
          "base_uri": "https://localhost:8080/"
        },
        "id": "MXAXrCv5oRE5",
        "outputId": "7c0ef116-ad8f-4423-afcb-60666e0dbbf6"
      },
      "source": [
        "sales_data[\"NA_Sales\"].apply(float)\n",
        "sales_data[\"EU_Sales\"].apply(float)\n",
        "sales_data[\"JP_Sales\"].apply(float)\n",
        "sales_data[\"Other_Sales\"].apply(float)"
      ],
      "execution_count": 15,
      "outputs": [
        {
          "output_type": "execute_result",
          "data": {
            "text/plain": [
              "0        0.00\n",
              "10068    0.06\n",
              "10062    0.02\n",
              "2291     0.00\n",
              "10061    0.01\n",
              "         ... \n",
              "15526    0.36\n",
              "16091    0.01\n",
              "16431    0.01\n",
              "16555    0.01\n",
              "16587    0.10\n",
              "Name: Other_Sales, Length: 16598, dtype: float64"
            ]
          },
          "metadata": {},
          "execution_count": 15
        }
      ]
    },
    {
      "cell_type": "code",
      "metadata": {
        "colab": {
          "base_uri": "https://localhost:8080/",
          "height": 424
        },
        "id": "vNih-Y47o6al",
        "outputId": "bb3343bf-1250-4a5c-c409-0a82fb500321"
      },
      "source": [
        "sales_data"
      ],
      "execution_count": 16,
      "outputs": [
        {
          "output_type": "execute_result",
          "data": {
            "text/html": [
              "<div>\n",
              "<style scoped>\n",
              "    .dataframe tbody tr th:only-of-type {\n",
              "        vertical-align: middle;\n",
              "    }\n",
              "\n",
              "    .dataframe tbody tr th {\n",
              "        vertical-align: top;\n",
              "    }\n",
              "\n",
              "    .dataframe thead th {\n",
              "        text-align: right;\n",
              "    }\n",
              "</style>\n",
              "<table border=\"1\" class=\"dataframe\">\n",
              "  <thead>\n",
              "    <tr style=\"text-align: right;\">\n",
              "      <th></th>\n",
              "      <th>Genre</th>\n",
              "      <th>NA_Sales</th>\n",
              "      <th>EU_Sales</th>\n",
              "      <th>JP_Sales</th>\n",
              "      <th>Other_Sales</th>\n",
              "    </tr>\n",
              "  </thead>\n",
              "  <tbody>\n",
              "    <tr>\n",
              "      <th>0</th>\n",
              "      <td>Action</td>\n",
              "      <td>0.04</td>\n",
              "      <td>0</td>\n",
              "      <td>0</td>\n",
              "      <td>0</td>\n",
              "    </tr>\n",
              "    <tr>\n",
              "      <th>10068</th>\n",
              "      <td>Action</td>\n",
              "      <td>0.26</td>\n",
              "      <td>0.13</td>\n",
              "      <td>0</td>\n",
              "      <td>0.06</td>\n",
              "    </tr>\n",
              "    <tr>\n",
              "      <th>10062</th>\n",
              "      <td>Action</td>\n",
              "      <td>0.18</td>\n",
              "      <td>0.04</td>\n",
              "      <td>0</td>\n",
              "      <td>0.02</td>\n",
              "    </tr>\n",
              "    <tr>\n",
              "      <th>2291</th>\n",
              "      <td>Action</td>\n",
              "      <td>0</td>\n",
              "      <td>0.01</td>\n",
              "      <td>0</td>\n",
              "      <td>0</td>\n",
              "    </tr>\n",
              "    <tr>\n",
              "      <th>10061</th>\n",
              "      <td>Action</td>\n",
              "      <td>0.02</td>\n",
              "      <td>0.07</td>\n",
              "      <td>0</td>\n",
              "      <td>0.01</td>\n",
              "    </tr>\n",
              "    <tr>\n",
              "      <th>...</th>\n",
              "      <td>...</td>\n",
              "      <td>...</td>\n",
              "      <td>...</td>\n",
              "      <td>...</td>\n",
              "      <td>...</td>\n",
              "    </tr>\n",
              "    <tr>\n",
              "      <th>15526</th>\n",
              "      <td>NaN</td>\n",
              "      <td>1</td>\n",
              "      <td>0.76</td>\n",
              "      <td>0.26</td>\n",
              "      <td>0.36</td>\n",
              "    </tr>\n",
              "    <tr>\n",
              "      <th>16091</th>\n",
              "      <td>NaN</td>\n",
              "      <td>0.14</td>\n",
              "      <td>0</td>\n",
              "      <td>0</td>\n",
              "      <td>0.01</td>\n",
              "    </tr>\n",
              "    <tr>\n",
              "      <th>16431</th>\n",
              "      <td>NaN</td>\n",
              "      <td>0.13</td>\n",
              "      <td>0</td>\n",
              "      <td>0</td>\n",
              "      <td>0.01</td>\n",
              "    </tr>\n",
              "    <tr>\n",
              "      <th>16555</th>\n",
              "      <td>NaN</td>\n",
              "      <td>0</td>\n",
              "      <td>0.03</td>\n",
              "      <td>0</td>\n",
              "      <td>0.01</td>\n",
              "    </tr>\n",
              "    <tr>\n",
              "      <th>16587</th>\n",
              "      <td>NaN</td>\n",
              "      <td>1.38</td>\n",
              "      <td>0.8</td>\n",
              "      <td>0</td>\n",
              "      <td>0.1</td>\n",
              "    </tr>\n",
              "  </tbody>\n",
              "</table>\n",
              "<p>16598 rows × 5 columns</p>\n",
              "</div>"
            ],
            "text/plain": [
              "        Genre NA_Sales EU_Sales JP_Sales Other_Sales\n",
              "0      Action     0.04        0        0           0\n",
              "10068  Action     0.26     0.13        0        0.06\n",
              "10062  Action     0.18     0.04        0        0.02\n",
              "2291   Action        0     0.01        0           0\n",
              "10061  Action     0.02     0.07        0        0.01\n",
              "...       ...      ...      ...      ...         ...\n",
              "15526     NaN        1     0.76     0.26        0.36\n",
              "16091     NaN     0.14        0        0        0.01\n",
              "16431     NaN     0.13        0        0        0.01\n",
              "16555     NaN        0     0.03        0        0.01\n",
              "16587     NaN     1.38      0.8        0         0.1\n",
              "\n",
              "[16598 rows x 5 columns]"
            ]
          },
          "metadata": {},
          "execution_count": 16
        }
      ]
    },
    {
      "cell_type": "code",
      "metadata": {
        "colab": {
          "base_uri": "https://localhost:8080/"
        },
        "id": "8ousruo8d7Ku",
        "outputId": "6962249a-c33e-4eb6-9d71-e189e8c5eb52"
      },
      "source": [
        "#새로운 데이터프레임 생성 / 게임별 총 소비량을 더한 \"Total_Sales\"라는 컬럼 생성\n",
        "vgames_data_game = pd.DataFrame()\n",
        "vgames_data_game[\"Name\"] = vgames_data[\"Name\"]\n",
        "vgames_data_game[\"Platform\"] = vgames_data[\"Platform\"]\n",
        "vgames_data_game[\"Genre\"] = vgames_data[\"Genre\"]\n",
        "vgames_data_game[\"Publisher\"] = vgames_data[\"Publisher\"]\n",
        "vgames_data_game[\"Total_Sales\"] = float(0)\n",
        "for i in range(len(vgames_data[\"Name\"])):\n",
        "  vgames_data_game[\"Total_Sales\"][i] = (sales_data[\"NA_Sales\"][i] + sales_data[\"EU_Sales\"][i] + sales_data[\"JP_Sales\"][i] + sales_data[\"Other_Sales\"][i])"
      ],
      "execution_count": 17,
      "outputs": [
        {
          "output_type": "stream",
          "name": "stderr",
          "text": [
            "/usr/local/lib/python3.7/dist-packages/ipykernel_launcher.py:9: SettingWithCopyWarning: \n",
            "A value is trying to be set on a copy of a slice from a DataFrame\n",
            "\n",
            "See the caveats in the documentation: https://pandas.pydata.org/pandas-docs/stable/user_guide/indexing.html#returning-a-view-versus-a-copy\n",
            "  if __name__ == '__main__':\n"
          ]
        }
      ]
    },
    {
      "cell_type": "code",
      "metadata": {
        "colab": {
          "base_uri": "https://localhost:8080/",
          "height": 363
        },
        "id": "UG73dv5DkIwb",
        "outputId": "71d1e450-8c22-47e4-f1fa-1aebc15b2a16"
      },
      "source": [
        "# 많이 판매된 순으로 정렬하여 상위권을 차지한 게임 순으로 데이터 조회\n",
        "vgames_data_game.sort_values(by=['Total_Sales'], ascending=False, inplace=True)\n",
        "vgames_data_game_topten = vgames_data_game.head(10)\n",
        "vgames_data_game_topten.reset_index(drop=True, inplace=True)\n",
        "vgames_data_game_topten"
      ],
      "execution_count": 18,
      "outputs": [
        {
          "output_type": "execute_result",
          "data": {
            "text/html": [
              "<div>\n",
              "<style scoped>\n",
              "    .dataframe tbody tr th:only-of-type {\n",
              "        vertical-align: middle;\n",
              "    }\n",
              "\n",
              "    .dataframe tbody tr th {\n",
              "        vertical-align: top;\n",
              "    }\n",
              "\n",
              "    .dataframe thead th {\n",
              "        text-align: right;\n",
              "    }\n",
              "</style>\n",
              "<table border=\"1\" class=\"dataframe\">\n",
              "  <thead>\n",
              "    <tr style=\"text-align: right;\">\n",
              "      <th></th>\n",
              "      <th>Name</th>\n",
              "      <th>Platform</th>\n",
              "      <th>Genre</th>\n",
              "      <th>Publisher</th>\n",
              "      <th>Total_Sales</th>\n",
              "    </tr>\n",
              "  </thead>\n",
              "  <tbody>\n",
              "    <tr>\n",
              "      <th>0</th>\n",
              "      <td>Wii Sports</td>\n",
              "      <td>Wii</td>\n",
              "      <td>Sports</td>\n",
              "      <td>Nintendo</td>\n",
              "      <td>82.74</td>\n",
              "    </tr>\n",
              "    <tr>\n",
              "      <th>1</th>\n",
              "      <td>Super Mario Bros.</td>\n",
              "      <td>NES</td>\n",
              "      <td>Platform</td>\n",
              "      <td>Nintendo</td>\n",
              "      <td>40.24</td>\n",
              "    </tr>\n",
              "    <tr>\n",
              "      <th>2</th>\n",
              "      <td>Mario Kart Wii</td>\n",
              "      <td>Wii</td>\n",
              "      <td>Racing</td>\n",
              "      <td>Nintendo</td>\n",
              "      <td>35.83</td>\n",
              "    </tr>\n",
              "    <tr>\n",
              "      <th>3</th>\n",
              "      <td>Wii Sports Resort</td>\n",
              "      <td>Wii</td>\n",
              "      <td>Sports</td>\n",
              "      <td>Nintendo</td>\n",
              "      <td>33.00</td>\n",
              "    </tr>\n",
              "    <tr>\n",
              "      <th>4</th>\n",
              "      <td>Pokemon Red/Pokemon Blue</td>\n",
              "      <td>GB</td>\n",
              "      <td>Role-Playing</td>\n",
              "      <td>Nintendo</td>\n",
              "      <td>31.38</td>\n",
              "    </tr>\n",
              "    <tr>\n",
              "      <th>5</th>\n",
              "      <td>Tetris</td>\n",
              "      <td>GB</td>\n",
              "      <td>Puzzle</td>\n",
              "      <td>Nintendo</td>\n",
              "      <td>30.26</td>\n",
              "    </tr>\n",
              "    <tr>\n",
              "      <th>6</th>\n",
              "      <td>New Super Mario Bros.</td>\n",
              "      <td>DS</td>\n",
              "      <td>Platform</td>\n",
              "      <td>Nintendo</td>\n",
              "      <td>30.01</td>\n",
              "    </tr>\n",
              "    <tr>\n",
              "      <th>7</th>\n",
              "      <td>Wii Play</td>\n",
              "      <td>Wii</td>\n",
              "      <td>Misc</td>\n",
              "      <td>Nintendo</td>\n",
              "      <td>29.01</td>\n",
              "    </tr>\n",
              "    <tr>\n",
              "      <th>8</th>\n",
              "      <td>New Super Mario Bros. Wii</td>\n",
              "      <td>Wii</td>\n",
              "      <td>Platform</td>\n",
              "      <td>Nintendo</td>\n",
              "      <td>28.61</td>\n",
              "    </tr>\n",
              "    <tr>\n",
              "      <th>9</th>\n",
              "      <td>Duck Hunt</td>\n",
              "      <td>NES</td>\n",
              "      <td>Shooter</td>\n",
              "      <td>Nintendo</td>\n",
              "      <td>28.31</td>\n",
              "    </tr>\n",
              "  </tbody>\n",
              "</table>\n",
              "</div>"
            ],
            "text/plain": [
              "                        Name Platform         Genre Publisher  Total_Sales\n",
              "0                 Wii Sports      Wii        Sports  Nintendo        82.74\n",
              "1          Super Mario Bros.      NES      Platform  Nintendo        40.24\n",
              "2             Mario Kart Wii      Wii        Racing  Nintendo        35.83\n",
              "3          Wii Sports Resort      Wii        Sports  Nintendo        33.00\n",
              "4   Pokemon Red/Pokemon Blue       GB  Role-Playing  Nintendo        31.38\n",
              "5                     Tetris       GB        Puzzle  Nintendo        30.26\n",
              "6      New Super Mario Bros.       DS      Platform  Nintendo        30.01\n",
              "7                   Wii Play      Wii          Misc  Nintendo        29.01\n",
              "8  New Super Mario Bros. Wii      Wii      Platform  Nintendo        28.61\n",
              "9                  Duck Hunt      NES       Shooter  Nintendo        28.31"
            ]
          },
          "metadata": {},
          "execution_count": 18
        }
      ]
    },
    {
      "cell_type": "markdown",
      "metadata": {
        "id": "w4b5gpZJqieB"
      },
      "source": [
        "# **출고량이 높은 게임에 대한 분석**\n",
        "\n",
        "*   상위 10개의 게임을 출력한 결과 Nintendo사의 게임이 상위랭크를 전부 차지하고 있음을 확인\n",
        "*   플랫폼(디바이스)은 Wii가 절반을 차지하고 있고, GB,NES가 각 2개씩 랭크되어 있고, DS가 6위로 1개 랭크\n",
        "*   눈에 띄는 특이점은 2-10위까지는 엇비슷한 차이를 보이지만, 1위와 2위의 차이는 2배 이상 차이가 남.\n",
        "\n",
        "\n",
        "\n",
        "\n",
        "\n"
      ]
    },
    {
      "cell_type": "markdown",
      "metadata": {
        "id": "HWa6ZFc6hGS6"
      },
      "source": [
        "# **분석한 자료 시각화**"
      ]
    },
    {
      "cell_type": "code",
      "metadata": {
        "colab": {
          "base_uri": "https://localhost:8080/",
          "height": 313
        },
        "id": "B9-BtbbpptQn",
        "outputId": "3aca4d28-e03c-47ac-cbcb-5b4190f86d47"
      },
      "source": [
        "fig, ax = plt.subplots(ncols=3, constrained_layout=True)\n",
        "# 차트 배경 설정\n",
        "sns.set_style('whitegrid')\n",
        "\n",
        "sns.countplot(x=\"Platform\", data=vgames_data_game_topten, ax=ax[0])\n",
        "sns.countplot(x=\"Genre\", data=vgames_data_game_topten, ax=ax[1])\n",
        "sns.countplot(x=\"Publisher\", data=vgames_data_game_topten, ax=ax[2])\n",
        "\n",
        "plt.show()"
      ],
      "execution_count": 40,
      "outputs": [
        {
          "output_type": "display_data",
          "data": {
            "image/png": "[encoded data removed]",
            "text/plain": [
              "<Figure size 432x288 with 3 Axes>"
            ]
          },
          "metadata": {}
        }
      ]
    },
    {
      "cell_type": "code",
      "metadata": {
        "colab": {
          "base_uri": "https://localhost:8080/",
          "height": 314
        },
        "id": "yZOjbc5XhjTv",
        "outputId": "5e9bd5c6-b634-4677-cb75-eb1745c4b29e"
      },
      "source": [
        "print(sns.countplot(x=\"Platform\", data=vgames_data_game_topten))\n",
        "print(sns.countplot(x=\"Genre\", data=vgames_data_game_topten))\n",
        "# sns.countplot(x=\"Publisher\", data=vgames_data_game_topten)"
      ],
      "execution_count": 44,
      "outputs": [
        {
          "output_type": "stream",
          "name": "stdout",
          "text": [
            "AxesSubplot(0.125,0.125;0.775x0.755)\n",
            "AxesSubplot(0.125,0.125;0.775x0.755)\n"
          ]
        },
        {
          "output_type": "display_data",
          "data": {
            "image/png": "[encoded data removed]",
            "text/plain": [
              "<Figure size 432x288 with 1 Axes>"
            ]
          },
          "metadata": {}
        }
      ]
    },
    {
      "cell_type": "markdown",
      "metadata": {
        "id": "EJBVGqxZmkhh"
      },
      "source": [
        "# **추가 검증**\n",
        "**가설1 :명료한 게임 이름이 게임 매출에 도움이 될 것이다.**"
      ]
    },
    {
      "cell_type": "code",
      "metadata": {
        "id": "rxW2NZZAmCZ_"
      },
      "source": [
        ""
      ],
      "execution_count": null,
      "outputs": []
    }
  ]
}