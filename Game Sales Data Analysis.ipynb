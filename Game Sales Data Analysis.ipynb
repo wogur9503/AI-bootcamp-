{
  "nbformat": 4,
  "nbformat_minor": 0,
  "metadata": {
    "colab": {
      "name": "Untitled9.ipynb",
      "provenance": [],
      "authorship_tag": "ABX9TyOUxYjcB7jGBBT4yK+UYtIW",
      "include_colab_link": true
    },
    "kernelspec": {
      "name": "python3",
      "display_name": "Python 3"
    },
    "language_info": {
      "name": "python"
    }
  },
  "cells": [
    {
      "cell_type": "markdown",
      "metadata": {
        "id": "view-in-github",
        "colab_type": "text"
      },
      "source": [
        "<a href=\"https://colab.research.google.com/github/wogur9503/AI-bootcamp-/blob/main/Game%20Sales%20Data%20Analysis.ipynb\" target=\"_parent\"><img src=\"https://colab.research.google.com/assets/colab-badge.svg\" alt=\"Open In Colab\"/></a>"
      ]
    },
    {
      "cell_type": "markdown",
      "metadata": {
        "id": "sp_hXb0XIvmf"
      },
      "source": [
        "# **프로젝트 : 게임데이터 분석**\n",
        "\n",
        "최소 요구 조건\n",
        "\n",
        "1.   지역에 따라서 선호하는 게임 장르가 다를까 라는 질문에 대답을 하셔야합니다.\n",
        "2.   연도별 게임의 트렌드가 있을까 라는 질문에 대답을 하셔야합니다.\n",
        "3.   출고량이 높은 게임에 대한 분석 및 시각화 프로세스가 포함되어야 합니다.\n",
        "\n",
        "\n"
      ]
    },
    {
      "cell_type": "code",
      "metadata": {
        "id": "9xfNWF2hHUQQ"
      },
      "source": [
        "import pandas as pd\n",
        "import numpy as np\n",
        "import matplotlib.pyplot as plt\n",
        "import seaborn as sns"
      ],
      "execution_count": 2,
      "outputs": []
    },
    {
      "cell_type": "code",
      "metadata": {
        "colab": {
          "base_uri": "https://localhost:8080/",
          "height": 424
        },
        "id": "7bGNWTdWHei5",
        "outputId": "b3f96243-e2d7-41ea-fa4f-6c9cfae3af86"
      },
      "source": [
        "vgames_data = pd.read_csv('vgames2.csv')\n",
        "vgames_data.head()\n",
        "vgames_data = vgames_data.drop(['Unnamed: 0'], axis=1)\n",
        "vgames_data"
      ],
      "execution_count": 3,
      "outputs": [
        {
          "output_type": "execute_result",
          "data": {
            "text/html": [
              "<div>\n",
              "<style scoped>\n",
              "    .dataframe tbody tr th:only-of-type {\n",
              "        vertical-align: middle;\n",
              "    }\n",
              "\n",
              "    .dataframe tbody tr th {\n",
              "        vertical-align: top;\n",
              "    }\n",
              "\n",
              "    .dataframe thead th {\n",
              "        text-align: right;\n",
              "    }\n",
              "</style>\n",
              "<table border=\"1\" class=\"dataframe\">\n",
              "  <thead>\n",
              "    <tr style=\"text-align: right;\">\n",
              "      <th></th>\n",
              "      <th>Name</th>\n",
              "      <th>Platform</th>\n",
              "      <th>Year</th>\n",
              "      <th>Genre</th>\n",
              "      <th>Publisher</th>\n",
              "      <th>NA_Sales</th>\n",
              "      <th>EU_Sales</th>\n",
              "      <th>JP_Sales</th>\n",
              "      <th>Other_Sales</th>\n",
              "    </tr>\n",
              "  </thead>\n",
              "  <tbody>\n",
              "    <tr>\n",
              "      <th>0</th>\n",
              "      <td>Candace Kane's Candy Factory</td>\n",
              "      <td>DS</td>\n",
              "      <td>2008.0</td>\n",
              "      <td>Action</td>\n",
              "      <td>Destineer</td>\n",
              "      <td>0.04</td>\n",
              "      <td>0</td>\n",
              "      <td>0</td>\n",
              "      <td>0</td>\n",
              "    </tr>\n",
              "    <tr>\n",
              "      <th>1</th>\n",
              "      <td>The Munchables</td>\n",
              "      <td>Wii</td>\n",
              "      <td>2009.0</td>\n",
              "      <td>Action</td>\n",
              "      <td>Namco Bandai Games</td>\n",
              "      <td>0.17</td>\n",
              "      <td>0</td>\n",
              "      <td>0</td>\n",
              "      <td>0.01</td>\n",
              "    </tr>\n",
              "    <tr>\n",
              "      <th>2</th>\n",
              "      <td>Otome wa Oanesama Boku ni Koi Shiteru Portable</td>\n",
              "      <td>PSP</td>\n",
              "      <td>2010.0</td>\n",
              "      <td>Adventure</td>\n",
              "      <td>Alchemist</td>\n",
              "      <td>0</td>\n",
              "      <td>0</td>\n",
              "      <td>0.02</td>\n",
              "      <td>0</td>\n",
              "    </tr>\n",
              "    <tr>\n",
              "      <th>3</th>\n",
              "      <td>Deal or No Deal: Special Edition</td>\n",
              "      <td>DS</td>\n",
              "      <td>2010.0</td>\n",
              "      <td>Misc</td>\n",
              "      <td>Zoo Games</td>\n",
              "      <td>0.04</td>\n",
              "      <td>0</td>\n",
              "      <td>0</td>\n",
              "      <td>0</td>\n",
              "    </tr>\n",
              "    <tr>\n",
              "      <th>4</th>\n",
              "      <td>Ben 10 Ultimate Alien: Cosmic Destruction</td>\n",
              "      <td>PS3</td>\n",
              "      <td>2010.0</td>\n",
              "      <td>Platform</td>\n",
              "      <td>D3Publisher</td>\n",
              "      <td>0.12</td>\n",
              "      <td>0.09</td>\n",
              "      <td>0</td>\n",
              "      <td>0.04</td>\n",
              "    </tr>\n",
              "    <tr>\n",
              "      <th>...</th>\n",
              "      <td>...</td>\n",
              "      <td>...</td>\n",
              "      <td>...</td>\n",
              "      <td>...</td>\n",
              "      <td>...</td>\n",
              "      <td>...</td>\n",
              "      <td>...</td>\n",
              "      <td>...</td>\n",
              "      <td>...</td>\n",
              "    </tr>\n",
              "    <tr>\n",
              "      <th>16593</th>\n",
              "      <td>Ice Age 2: The Meltdown</td>\n",
              "      <td>GC</td>\n",
              "      <td>2006.0</td>\n",
              "      <td>Platform</td>\n",
              "      <td>Vivendi Games</td>\n",
              "      <td>0.15</td>\n",
              "      <td>0.04</td>\n",
              "      <td>0</td>\n",
              "      <td>0.01</td>\n",
              "    </tr>\n",
              "    <tr>\n",
              "      <th>16594</th>\n",
              "      <td>Rainbow Islands: Revolution</td>\n",
              "      <td>PSP</td>\n",
              "      <td>2005.0</td>\n",
              "      <td>Action</td>\n",
              "      <td>Rising Star Games</td>\n",
              "      <td>0.01</td>\n",
              "      <td>0</td>\n",
              "      <td>0</td>\n",
              "      <td>0</td>\n",
              "    </tr>\n",
              "    <tr>\n",
              "      <th>16595</th>\n",
              "      <td>NBA 2K16</td>\n",
              "      <td>PS3</td>\n",
              "      <td>2015.0</td>\n",
              "      <td>Sports</td>\n",
              "      <td>Take-Two Interactive</td>\n",
              "      <td>0.44</td>\n",
              "      <td>0.19</td>\n",
              "      <td>0.03</td>\n",
              "      <td>0.13</td>\n",
              "    </tr>\n",
              "    <tr>\n",
              "      <th>16596</th>\n",
              "      <td>Toukiden: The Age of Demons</td>\n",
              "      <td>PSV</td>\n",
              "      <td>2013.0</td>\n",
              "      <td>Action</td>\n",
              "      <td>Tecmo Koei</td>\n",
              "      <td>0.05</td>\n",
              "      <td>0.05</td>\n",
              "      <td>0.25</td>\n",
              "      <td>0.03</td>\n",
              "    </tr>\n",
              "    <tr>\n",
              "      <th>16597</th>\n",
              "      <td>The King of Fighters '95</td>\n",
              "      <td>PS</td>\n",
              "      <td>1996.0</td>\n",
              "      <td>Fighting</td>\n",
              "      <td>Sony Computer Entertainment</td>\n",
              "      <td>0</td>\n",
              "      <td>0</td>\n",
              "      <td>0.16</td>\n",
              "      <td>0.01</td>\n",
              "    </tr>\n",
              "  </tbody>\n",
              "</table>\n",
              "<p>16598 rows × 9 columns</p>\n",
              "</div>"
            ],
            "text/plain": [
              "                                                 Name  ... Other_Sales\n",
              "0                        Candace Kane's Candy Factory  ...           0\n",
              "1                                      The Munchables  ...        0.01\n",
              "2      Otome wa Oanesama Boku ni Koi Shiteru Portable  ...           0\n",
              "3                    Deal or No Deal: Special Edition  ...           0\n",
              "4           Ben 10 Ultimate Alien: Cosmic Destruction  ...        0.04\n",
              "...                                               ...  ...         ...\n",
              "16593                         Ice Age 2: The Meltdown  ...        0.01\n",
              "16594                     Rainbow Islands: Revolution  ...           0\n",
              "16595                                        NBA 2K16  ...        0.13\n",
              "16596                     Toukiden: The Age of Demons  ...        0.03\n",
              "16597                        The King of Fighters '95  ...        0.01\n",
              "\n",
              "[16598 rows x 9 columns]"
            ]
          },
          "metadata": {},
          "execution_count": 3
        }
      ]
    },
    {
      "cell_type": "markdown",
      "metadata": {
        "id": "qJH1z_BAKhC8"
      },
      "source": [
        "**지역에 따라 선호하는 게임 장르 분석**"
      ]
    },
    {
      "cell_type": "code",
      "metadata": {
        "id": "3m8xzs2CHqV2"
      },
      "source": [
        "# sales_data라는 새로운 데이터 프레임 생성\n",
        "sales_data = pd.DataFrame()\n",
        "sales_data['Genre'] = vgames_data['Genre']\n",
        "sales_data['NA_Sales'] = vgames_data['NA_Sales']\n",
        "sales_data['EU_Sales'] = vgames_data['EU_Sales']\n",
        "sales_data['JP_Sales'] = vgames_data['JP_Sales']\n",
        "sales_data['Other_Sales'] = vgames_data['Other_Sales']"
      ],
      "execution_count": 4,
      "outputs": []
    },
    {
      "cell_type": "code",
      "metadata": {
        "id": "5sLchxitSufX"
      },
      "source": [
        "# Sales데이터 스트링에서 인티저형태 변환\n",
        "def sales_2int(a) :\n",
        "  if a[-1] == 'M':\n",
        "    a = a[:-1]\n",
        "    a = float(a)\n",
        "    a = a * 1000000\n",
        "  elif a[-1] == \"K\":\n",
        "    a = a[:-1]\n",
        "    a = float(a)\n",
        "    a = a * 1000\n",
        "  else :\n",
        "    a = float(a)\n",
        "    a = a * 1000000  \n",
        "  return int(a)"
      ],
      "execution_count": 5,
      "outputs": []
    },
    {
      "cell_type": "code",
      "metadata": {
        "id": "-b1V6usKVgXo"
      },
      "source": [
        "for i in range(len(sales_data['NA_Sales'])):\n",
        "  sales_data['NA_Sales'][i] = sales_2int(sales_data['NA_Sales'][i])\n",
        "for i in range(len(sales_data['EU_Sales'])):\n",
        "  sales_data['EU_Sales'][i] = sales_2int(sales_data['EU_Sales'][i])\n",
        "for i in range(len(sales_data['JP_Sales'])):\n",
        "  sales_data['JP_Sales'][i] = sales_2int(sales_data['JP_Sales'][i])\n",
        "for i in range(len(sales_data['NA_Sales'])):\n",
        "  sales_data['Other_Sales'][i] = sales_2int(sales_data['Other_Sales'][i])"
      ],
      "execution_count": 6,
      "outputs": []
    },
    {
      "cell_type": "code",
      "metadata": {
        "id": "ZJsbZ8ZtVnKS"
      },
      "source": [
        "# 장르 순으로 sorting 후, 장르 인덱스를 다시 열로 빼냄.\n",
        "sales_data.sort_values(by='Genre', inplace=True)\n",
        "sales_data2 = sales_data.groupby('Genre').sum()\n",
        "sales_data2 = sales_data2.reset_index()\n",
        "sales_data2['Genre'] = ['Action', 'Adventure', 'Fighting', 'Misc', 'Platform', 'Puzzle',\n",
        "       'Racing', 'Role-Playing', 'Shooter', 'Simulation', 'Sports',\n",
        "       'Strategy']"
      ],
      "execution_count": 7,
      "outputs": []
    },
    {
      "cell_type": "code",
      "metadata": {
        "colab": {
          "base_uri": "https://localhost:8080/",
          "height": 777
        },
        "id": "jNuchB7Wa9MK",
        "outputId": "b6c3be1c-2f3e-46a6-fb4d-4280c250addd"
      },
      "source": [
        "# 시각화\n",
        "\n",
        "sales_data2.plot(x='Genre', y=[\"NA_Sales\", \"JP_Sales\", \"EU_Sales\", \"Other_Sales\"], kind=\"barh\",figsize=(12, 12))\n",
        "plt.show()"
      ],
      "execution_count": 8,
      "outputs": [
        {
          "output_type": "display_data",
          "data": {
            "image/png": "[encoded data removed]",
            "text/plain": [
              "<Figure size 864x864 with 1 Axes>"
            ]
          },
          "metadata": {
            "needs_background": "light"
          }
        }
      ]
    },
    {
      "cell_type": "markdown",
      "metadata": {
        "id": "wrIsG4EkIcya"
      },
      "source": [
        "**NA에서는 전체적으로 높은 소비량을 보이고 그중에서도 Action을 선호하는 경향을 띄고,**\n",
        "\n",
        "**EU는 NA에 비해 전체 소비량은 떨어지지만 마찬가지로 Action을 선호함.**\n",
        "\n",
        "**JP는 EU와 비슷한 소비량을 드러내고 Role-Playing장르를 선호하며,**\n",
        "\n",
        "**기타 국가들에서는 위 3개 분류 소비량보다 떨어지지만 선호장르는 Action으로 같다.**"
      ]
    },
    {
      "cell_type": "markdown",
      "metadata": {
        "id": "Ydl49PHVJvO2"
      },
      "source": [
        "# **연도별 게임 트렌드**"
      ]
    },
    {
      "cell_type": "code",
      "metadata": {
        "colab": {
          "base_uri": "https://localhost:8080/",
          "height": 424
        },
        "id": "9BXtOHy8Zkp8",
        "outputId": "2040582f-0595-4959-fc1a-d1293cf79b0d"
      },
      "source": [
        "trend_data = pd.DataFrame()\n",
        "\n",
        "vgames_data\n",
        "\n",
        "trend_data['Year'] = vgames_data['Year']\n",
        "trend_data['Platform'] = vgames_data['Platform']\n",
        "trend_data['Genre'] = vgames_data['Genre']\n",
        "trend_data"
      ],
      "execution_count": 22,
      "outputs": [
        {
          "output_type": "execute_result",
          "data": {
            "text/html": [
              "<div>\n",
              "<style scoped>\n",
              "    .dataframe tbody tr th:only-of-type {\n",
              "        vertical-align: middle;\n",
              "    }\n",
              "\n",
              "    .dataframe tbody tr th {\n",
              "        vertical-align: top;\n",
              "    }\n",
              "\n",
              "    .dataframe thead th {\n",
              "        text-align: right;\n",
              "    }\n",
              "</style>\n",
              "<table border=\"1\" class=\"dataframe\">\n",
              "  <thead>\n",
              "    <tr style=\"text-align: right;\">\n",
              "      <th></th>\n",
              "      <th>Year</th>\n",
              "      <th>Platform</th>\n",
              "      <th>Genre</th>\n",
              "    </tr>\n",
              "  </thead>\n",
              "  <tbody>\n",
              "    <tr>\n",
              "      <th>0</th>\n",
              "      <td>2008.0</td>\n",
              "      <td>DS</td>\n",
              "      <td>Action</td>\n",
              "    </tr>\n",
              "    <tr>\n",
              "      <th>1</th>\n",
              "      <td>2009.0</td>\n",
              "      <td>Wii</td>\n",
              "      <td>Action</td>\n",
              "    </tr>\n",
              "    <tr>\n",
              "      <th>2</th>\n",
              "      <td>2010.0</td>\n",
              "      <td>PSP</td>\n",
              "      <td>Adventure</td>\n",
              "    </tr>\n",
              "    <tr>\n",
              "      <th>3</th>\n",
              "      <td>2010.0</td>\n",
              "      <td>DS</td>\n",
              "      <td>Misc</td>\n",
              "    </tr>\n",
              "    <tr>\n",
              "      <th>4</th>\n",
              "      <td>2010.0</td>\n",
              "      <td>PS3</td>\n",
              "      <td>Platform</td>\n",
              "    </tr>\n",
              "    <tr>\n",
              "      <th>...</th>\n",
              "      <td>...</td>\n",
              "      <td>...</td>\n",
              "      <td>...</td>\n",
              "    </tr>\n",
              "    <tr>\n",
              "      <th>16593</th>\n",
              "      <td>2006.0</td>\n",
              "      <td>GC</td>\n",
              "      <td>Platform</td>\n",
              "    </tr>\n",
              "    <tr>\n",
              "      <th>16594</th>\n",
              "      <td>2005.0</td>\n",
              "      <td>PSP</td>\n",
              "      <td>Action</td>\n",
              "    </tr>\n",
              "    <tr>\n",
              "      <th>16595</th>\n",
              "      <td>2015.0</td>\n",
              "      <td>PS3</td>\n",
              "      <td>Sports</td>\n",
              "    </tr>\n",
              "    <tr>\n",
              "      <th>16596</th>\n",
              "      <td>2013.0</td>\n",
              "      <td>PSV</td>\n",
              "      <td>Action</td>\n",
              "    </tr>\n",
              "    <tr>\n",
              "      <th>16597</th>\n",
              "      <td>1996.0</td>\n",
              "      <td>PS</td>\n",
              "      <td>Fighting</td>\n",
              "    </tr>\n",
              "  </tbody>\n",
              "</table>\n",
              "<p>16598 rows × 3 columns</p>\n",
              "</div>"
            ],
            "text/plain": [
              "         Year Platform      Genre\n",
              "0      2008.0       DS     Action\n",
              "1      2009.0      Wii     Action\n",
              "2      2010.0      PSP  Adventure\n",
              "3      2010.0       DS       Misc\n",
              "4      2010.0      PS3   Platform\n",
              "...       ...      ...        ...\n",
              "16593  2006.0       GC   Platform\n",
              "16594  2005.0      PSP     Action\n",
              "16595  2015.0      PS3     Sports\n",
              "16596  2013.0      PSV     Action\n",
              "16597  1996.0       PS   Fighting\n",
              "\n",
              "[16598 rows x 3 columns]"
            ]
          },
          "metadata": {},
          "execution_count": 22
        }
      ]
    },
    {
      "cell_type": "code",
      "metadata": {
        "id": "yx18oj5IJ_gC"
      },
      "source": [
        ""
      ],
      "execution_count": null,
      "outputs": []
    }
  ]
}